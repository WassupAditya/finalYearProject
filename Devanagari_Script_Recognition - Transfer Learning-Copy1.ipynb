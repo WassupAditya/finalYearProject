{
 "cells": [
  {
   "cell_type": "markdown",
   "id": "5d09805c",
   "metadata": {
    "id": "5d09805c"
   },
   "source": [
    "### Import all necessary libraries"
   ]
  },
  {
   "cell_type": "code",
   "execution_count": 1,
   "id": "f2f5511f",
   "metadata": {},
   "outputs": [],
   "source": [
    "import numpy as np\n",
    "import matplotlib.pyplot as plt\n",
    "from keras.layers import Dense,Conv2D, MaxPool2D,Flatten\n",
    "from keras.optimizers import Adam\n",
    "from keras.utils import plot_model\n",
    "from keras.models import Sequential, Model\n",
    "from keras_preprocessing.image import ImageDataGenerator, load_img, img_to_array\n",
    "from keras.applications import ResNet152V2\n",
    "from keras.applications import MobileNetV2\n",
    "from keras.layers import Dense, GlobalAveragePooling2D"
   ]
  },
  {
   "cell_type": "markdown",
   "id": "6c5a9e65",
   "metadata": {
    "id": "6c5a9e65"
   },
   "source": [
    "### Import the dataset"
   ]
  },
  {
   "cell_type": "code",
   "execution_count": 2,
   "id": "f9f3ee24",
   "metadata": {
    "id": "f9f3ee24"
   },
   "outputs": [],
   "source": [
    "from keras.preprocessing.image import ImageDataGenerator"
   ]
  },
  {
   "cell_type": "code",
   "execution_count": 3,
   "id": "ef71e53e",
   "metadata": {
    "id": "ef71e53e"
   },
   "outputs": [],
   "source": [
    "train_datsgen=ImageDataGenerator(rescale=1/255,\n",
    "                                shear_range=0.2,\n",
    "                                zoom_range=0.2,\n",
    "                                horizontal_flip=True)"
   ]
  },
  {
   "cell_type": "code",
   "execution_count": 4,
   "id": "02552efd",
   "metadata": {
    "id": "02552efd"
   },
   "outputs": [],
   "source": [
    "test_datsgen=ImageDataGenerator(rescale=1/255,\n",
    "                               shear_range=0.2,\n",
    "                                zoom_range=0.2,\n",
    "                                horizontal_flip=True)"
   ]
  },
  {
   "cell_type": "code",
   "execution_count": 5,
   "id": "bb924401",
   "metadata": {
    "colab": {
     "base_uri": "https://localhost:8080/"
    },
    "id": "bb924401",
    "outputId": "e7fb4d8c-228a-4b3a-efd0-f656a93aaa86"
   },
   "outputs": [
    {
     "name": "stdout",
     "output_type": "stream",
     "text": [
      "Found 22258 images belonging to 513 classes.\n"
     ]
    }
   ],
   "source": [
    "training_set=train_datsgen.flow_from_directory(r\"C:\\Users\\sndes\\JupyterProjects\\FinalProject\\Fin_DS\\train\",\n",
    "                                              target_size=(64, 64),\n",
    "                                              class_mode='categorical')"
   ]
  },
  {
   "cell_type": "code",
   "execution_count": 6,
   "id": "15fcef3c",
   "metadata": {
    "colab": {
     "base_uri": "https://localhost:8080/"
    },
    "id": "15fcef3c",
    "outputId": "bec4aa7b-ce7d-4c25-db1c-30fcd311adb4"
   },
   "outputs": [
    {
     "name": "stdout",
     "output_type": "stream",
     "text": [
      "Found 6022 images belonging to 513 classes.\n"
     ]
    }
   ],
   "source": [
    "test_set=train_datsgen.flow_from_directory(r\"C:\\Users\\sndes\\JupyterProjects\\FinalProject\\Fin_DS\\val\",\n",
    "                                              target_size=(64, 64),\n",
    "                                              class_mode='categorical')"
   ]
  },
  {
   "cell_type": "markdown",
   "id": "81bfb590",
   "metadata": {
    "id": "81bfb590"
   },
   "source": [
    "### Train the model"
   ]
  },
  {
   "cell_type": "markdown",
   "id": "fc026ecc",
   "metadata": {},
   "source": [
    "### Transfer Learning - MobileNet"
   ]
  },
  {
   "cell_type": "code",
   "execution_count": 11,
   "id": "ea112390",
   "metadata": {
    "scrolled": true
   },
   "outputs": [
    {
     "name": "stdout",
     "output_type": "stream",
     "text": [
      "WARNING:tensorflow:`input_shape` is undefined or non-square, or `rows` is not in [96, 128, 160, 192, 224]. Weights for input shape (224, 224) will be loaded as the default.\n"
     ]
    },
    {
     "name": "stderr",
     "output_type": "stream",
     "text": [
      "WARNING:tensorflow:`input_shape` is undefined or non-square, or `rows` is not in [96, 128, 160, 192, 224]. Weights for input shape (224, 224) will be loaded as the default.\n"
     ]
    },
    {
     "name": "stdout",
     "output_type": "stream",
     "text": [
      "Model: \"sequential_4\"\n",
      "_________________________________________________________________\n",
      " Layer (type)                Output Shape              Param #   \n",
      "=================================================================\n",
      " mobilenetv2_1.00_224 (Func  (None, 2, 2, 1280)        2257984   \n",
      " tional)                                                         \n",
      "                                                                 \n",
      " global_average_pooling2d_4  (None, 1280)              0         \n",
      "  (GlobalAveragePooling2D)                                       \n",
      "                                                                 \n",
      " dense_8 (Dense)             (None, 512)               655872    \n",
      "                                                                 \n",
      " dense_9 (Dense)             (None, 513)               263169    \n",
      "                                                                 \n",
      "=================================================================\n",
      "Total params: 3177025 (12.12 MB)\n",
      "Trainable params: 919041 (3.51 MB)\n",
      "Non-trainable params: 2257984 (8.61 MB)\n",
      "_________________________________________________________________\n"
     ]
    },
    {
     "name": "stderr",
     "output_type": "stream",
     "text": [
      "WARNING:absl:`lr` is deprecated in Keras optimizer, please use `learning_rate` or use the legacy optimizer, e.g.,tf.keras.optimizers.legacy.Adam.\n"
     ]
    },
    {
     "name": "stdout",
     "output_type": "stream",
     "text": [
      "Epoch 1/200\n",
      "696/696 [==============================] - 51s 71ms/step - loss: 5.5064 - accuracy: 0.0309 - val_loss: 4.7548 - val_accuracy: 0.0712\n",
      "Epoch 2/200\n",
      "696/696 [==============================] - 49s 71ms/step - loss: 4.5508 - accuracy: 0.0873 - val_loss: 4.3250 - val_accuracy: 0.1036\n",
      "Epoch 3/200\n",
      "696/696 [==============================] - 52s 75ms/step - loss: 4.1587 - accuracy: 0.1330 - val_loss: 4.0331 - val_accuracy: 0.1368\n",
      "Epoch 4/200\n",
      "696/696 [==============================] - 52s 75ms/step - loss: 3.8911 - accuracy: 0.1635 - val_loss: 3.8599 - val_accuracy: 0.1666\n",
      "Epoch 5/200\n",
      "696/696 [==============================] - 53s 76ms/step - loss: 3.7110 - accuracy: 0.1911 - val_loss: 3.7367 - val_accuracy: 0.1767\n",
      "Epoch 6/200\n",
      "696/696 [==============================] - 56s 81ms/step - loss: 3.5421 - accuracy: 0.2225 - val_loss: 3.6405 - val_accuracy: 0.1913\n",
      "Epoch 7/200\n",
      "696/696 [==============================] - 53s 76ms/step - loss: 3.3955 - accuracy: 0.2383 - val_loss: 3.5131 - val_accuracy: 0.2175\n",
      "Epoch 8/200\n",
      "696/696 [==============================] - 53s 76ms/step - loss: 3.2926 - accuracy: 0.2583 - val_loss: 3.4874 - val_accuracy: 0.2167\n",
      "Epoch 9/200\n",
      "696/696 [==============================] - 53s 76ms/step - loss: 3.1897 - accuracy: 0.2813 - val_loss: 3.4118 - val_accuracy: 0.2439\n",
      "Epoch 10/200\n",
      "696/696 [==============================] - 53s 76ms/step - loss: 3.0984 - accuracy: 0.2942 - val_loss: 3.3183 - val_accuracy: 0.2478\n",
      "Epoch 11/200\n",
      "696/696 [==============================] - 55s 79ms/step - loss: 3.0164 - accuracy: 0.3114 - val_loss: 3.2241 - val_accuracy: 0.2644\n",
      "Epoch 12/200\n",
      "696/696 [==============================] - 53s 76ms/step - loss: 2.9452 - accuracy: 0.3195 - val_loss: 3.2131 - val_accuracy: 0.2630\n",
      "Epoch 13/200\n",
      "696/696 [==============================] - 52s 75ms/step - loss: 2.8660 - accuracy: 0.3338 - val_loss: 3.1264 - val_accuracy: 0.2866\n",
      "Epoch 14/200\n",
      "696/696 [==============================] - 52s 75ms/step - loss: 2.8126 - accuracy: 0.3450 - val_loss: 3.1501 - val_accuracy: 0.2914\n",
      "Epoch 15/200\n",
      "696/696 [==============================] - 52s 75ms/step - loss: 2.7684 - accuracy: 0.3555 - val_loss: 3.0929 - val_accuracy: 0.2913\n",
      "Epoch 16/200\n",
      "696/696 [==============================] - 53s 76ms/step - loss: 2.7013 - accuracy: 0.3664 - val_loss: 3.0425 - val_accuracy: 0.2987\n",
      "Epoch 17/200\n",
      "696/696 [==============================] - 53s 76ms/step - loss: 2.6720 - accuracy: 0.3723 - val_loss: 3.0199 - val_accuracy: 0.2989\n",
      "Epoch 18/200\n",
      "696/696 [==============================] - 54s 77ms/step - loss: 2.6224 - accuracy: 0.3774 - val_loss: 2.9885 - val_accuracy: 0.3119\n",
      "Epoch 19/200\n",
      "696/696 [==============================] - 52s 75ms/step - loss: 2.5770 - accuracy: 0.3878 - val_loss: 2.9319 - val_accuracy: 0.3205\n",
      "Epoch 20/200\n",
      "696/696 [==============================] - 53s 75ms/step - loss: 2.5444 - accuracy: 0.3940 - val_loss: 2.9348 - val_accuracy: 0.3227\n",
      "Epoch 21/200\n",
      "696/696 [==============================] - 52s 75ms/step - loss: 2.5120 - accuracy: 0.4027 - val_loss: 2.9318 - val_accuracy: 0.3348\n",
      "Epoch 22/200\n",
      "696/696 [==============================] - 53s 75ms/step - loss: 2.4797 - accuracy: 0.4109 - val_loss: 2.9077 - val_accuracy: 0.3393\n",
      "Epoch 23/200\n",
      "696/696 [==============================] - 52s 75ms/step - loss: 2.4636 - accuracy: 0.4125 - val_loss: 2.8980 - val_accuracy: 0.3379\n",
      "Epoch 24/200\n",
      "696/696 [==============================] - 52s 75ms/step - loss: 2.4106 - accuracy: 0.4207 - val_loss: 2.8745 - val_accuracy: 0.3429\n",
      "Epoch 25/200\n",
      "696/696 [==============================] - 52s 75ms/step - loss: 2.3822 - accuracy: 0.4289 - val_loss: 2.9117 - val_accuracy: 0.3391\n",
      "Epoch 26/200\n",
      "696/696 [==============================] - 52s 75ms/step - loss: 2.3689 - accuracy: 0.4302 - val_loss: 2.8554 - val_accuracy: 0.3441\n",
      "Epoch 27/200\n",
      "696/696 [==============================] - 53s 76ms/step - loss: 2.3389 - accuracy: 0.4354 - val_loss: 2.8037 - val_accuracy: 0.3600\n",
      "Epoch 28/200\n",
      "696/696 [==============================] - 53s 76ms/step - loss: 2.3197 - accuracy: 0.4420 - val_loss: 2.8147 - val_accuracy: 0.3584\n",
      "Epoch 29/200\n",
      "696/696 [==============================] - 52s 75ms/step - loss: 2.3142 - accuracy: 0.4432 - val_loss: 2.7923 - val_accuracy: 0.3560\n",
      "Epoch 30/200\n",
      "696/696 [==============================] - 53s 76ms/step - loss: 2.2693 - accuracy: 0.4473 - val_loss: 2.8238 - val_accuracy: 0.3492\n",
      "Epoch 31/200\n",
      "696/696 [==============================] - 53s 77ms/step - loss: 2.2722 - accuracy: 0.4535 - val_loss: 2.7599 - val_accuracy: 0.3569\n",
      "Epoch 32/200\n",
      "696/696 [==============================] - 52s 75ms/step - loss: 2.2339 - accuracy: 0.4598 - val_loss: 2.8240 - val_accuracy: 0.3569\n",
      "Epoch 33/200\n",
      "696/696 [==============================] - 53s 76ms/step - loss: 2.2143 - accuracy: 0.4625 - val_loss: 2.7124 - val_accuracy: 0.3761\n",
      "Epoch 34/200\n",
      "696/696 [==============================] - 53s 77ms/step - loss: 2.2008 - accuracy: 0.4681 - val_loss: 2.7434 - val_accuracy: 0.3723\n",
      "Epoch 35/200\n",
      "696/696 [==============================] - 53s 76ms/step - loss: 2.1794 - accuracy: 0.4699 - val_loss: 2.7139 - val_accuracy: 0.3740\n",
      "Epoch 36/200\n",
      "696/696 [==============================] - 52s 75ms/step - loss: 2.1575 - accuracy: 0.4706 - val_loss: 2.7167 - val_accuracy: 0.3770\n",
      "Epoch 37/200\n",
      "696/696 [==============================] - 52s 75ms/step - loss: 2.1539 - accuracy: 0.4765 - val_loss: 2.7854 - val_accuracy: 0.3698\n",
      "Epoch 38/200\n",
      "696/696 [==============================] - 53s 76ms/step - loss: 2.1537 - accuracy: 0.4758 - val_loss: 2.6795 - val_accuracy: 0.3921\n",
      "Epoch 39/200\n",
      "696/696 [==============================] - 54s 77ms/step - loss: 2.1497 - accuracy: 0.4753 - val_loss: 2.6607 - val_accuracy: 0.3896\n",
      "Epoch 40/200\n",
      "696/696 [==============================] - 52s 75ms/step - loss: 2.1312 - accuracy: 0.4843 - val_loss: 2.7065 - val_accuracy: 0.3936\n",
      "Epoch 41/200\n",
      "696/696 [==============================] - 53s 76ms/step - loss: 2.1045 - accuracy: 0.4890 - val_loss: 2.7140 - val_accuracy: 0.3941\n",
      "Epoch 42/200\n",
      "696/696 [==============================] - 52s 75ms/step - loss: 2.0964 - accuracy: 0.4850 - val_loss: 2.6044 - val_accuracy: 0.3927\n",
      "Epoch 43/200\n",
      "696/696 [==============================] - 52s 75ms/step - loss: 2.0777 - accuracy: 0.4907 - val_loss: 2.6363 - val_accuracy: 0.3951\n",
      "Epoch 44/200\n",
      "696/696 [==============================] - 52s 75ms/step - loss: 2.0695 - accuracy: 0.4937 - val_loss: 2.6702 - val_accuracy: 0.3882\n",
      "Epoch 45/200\n",
      "696/696 [==============================] - 53s 76ms/step - loss: 2.0564 - accuracy: 0.4944 - val_loss: 2.6478 - val_accuracy: 0.4040\n",
      "Epoch 46/200\n",
      "696/696 [==============================] - 54s 77ms/step - loss: 2.0555 - accuracy: 0.4991 - val_loss: 2.6816 - val_accuracy: 0.3946\n",
      "Epoch 47/200\n",
      "696/696 [==============================] - 54s 78ms/step - loss: 2.0386 - accuracy: 0.4987 - val_loss: 2.5920 - val_accuracy: 0.4170\n",
      "Epoch 48/200\n",
      "696/696 [==============================] - 55s 79ms/step - loss: 2.0341 - accuracy: 0.4994 - val_loss: 2.5934 - val_accuracy: 0.4040\n",
      "Epoch 49/200\n",
      "696/696 [==============================] - 55s 80ms/step - loss: 2.0248 - accuracy: 0.5029 - val_loss: 2.6383 - val_accuracy: 0.4034\n",
      "Epoch 50/200\n",
      "696/696 [==============================] - 55s 79ms/step - loss: 2.0145 - accuracy: 0.5080 - val_loss: 2.6167 - val_accuracy: 0.4022\n",
      "Epoch 51/200\n",
      "696/696 [==============================] - 55s 79ms/step - loss: 2.0170 - accuracy: 0.5031 - val_loss: 2.5942 - val_accuracy: 0.4095\n",
      "Epoch 52/200\n",
      "696/696 [==============================] - 55s 80ms/step - loss: 2.0148 - accuracy: 0.5040 - val_loss: 2.5811 - val_accuracy: 0.4168\n",
      "Epoch 53/200\n",
      "696/696 [==============================] - 56s 80ms/step - loss: 2.0062 - accuracy: 0.5070 - val_loss: 2.5738 - val_accuracy: 0.4186\n",
      "Epoch 54/200\n",
      "696/696 [==============================] - 57s 81ms/step - loss: 1.9708 - accuracy: 0.5158 - val_loss: 2.6038 - val_accuracy: 0.4035\n",
      "Epoch 55/200\n",
      "696/696 [==============================] - 55s 79ms/step - loss: 1.9823 - accuracy: 0.5104 - val_loss: 2.5551 - val_accuracy: 0.4226\n",
      "Epoch 56/200\n",
      "696/696 [==============================] - 56s 80ms/step - loss: 1.9605 - accuracy: 0.5185 - val_loss: 2.5768 - val_accuracy: 0.4153\n",
      "Epoch 57/200\n",
      "696/696 [==============================] - 55s 79ms/step - loss: 1.9447 - accuracy: 0.5199 - val_loss: 2.6036 - val_accuracy: 0.4175\n",
      "Epoch 58/200\n",
      "696/696 [==============================] - 55s 79ms/step - loss: 1.9459 - accuracy: 0.5204 - val_loss: 2.5747 - val_accuracy: 0.4269\n",
      "Epoch 59/200\n",
      "696/696 [==============================] - 55s 79ms/step - loss: 1.9465 - accuracy: 0.5180 - val_loss: 2.6912 - val_accuracy: 0.4057\n",
      "Epoch 60/200\n",
      "696/696 [==============================] - 55s 79ms/step - loss: 1.9494 - accuracy: 0.5172 - val_loss: 2.5679 - val_accuracy: 0.4259\n",
      "Epoch 61/200\n",
      "696/696 [==============================] - 55s 79ms/step - loss: 1.9302 - accuracy: 0.5235 - val_loss: 2.5700 - val_accuracy: 0.4213\n",
      "Epoch 62/200\n",
      "696/696 [==============================] - 55s 79ms/step - loss: 1.9215 - accuracy: 0.5254 - val_loss: 2.5622 - val_accuracy: 0.4228\n",
      "Epoch 63/200\n",
      "696/696 [==============================] - 55s 79ms/step - loss: 1.9330 - accuracy: 0.5223 - val_loss: 2.6013 - val_accuracy: 0.4389\n",
      "Epoch 64/200\n",
      "696/696 [==============================] - 55s 79ms/step - loss: 1.9061 - accuracy: 0.5298 - val_loss: 2.4798 - val_accuracy: 0.4430\n",
      "Epoch 65/200\n",
      "696/696 [==============================] - 55s 80ms/step - loss: 1.9189 - accuracy: 0.5266 - val_loss: 2.5711 - val_accuracy: 0.4258\n",
      "Epoch 66/200\n",
      "696/696 [==============================] - 55s 79ms/step - loss: 1.8947 - accuracy: 0.5336 - val_loss: 2.5006 - val_accuracy: 0.4376\n",
      "Epoch 67/200\n",
      "696/696 [==============================] - 55s 79ms/step - loss: 1.9147 - accuracy: 0.5279 - val_loss: 2.5016 - val_accuracy: 0.4309\n",
      "Epoch 68/200\n",
      "696/696 [==============================] - 55s 79ms/step - loss: 1.8827 - accuracy: 0.5361 - val_loss: 2.5112 - val_accuracy: 0.4399\n",
      "Epoch 69/200\n",
      "696/696 [==============================] - 55s 79ms/step - loss: 1.8955 - accuracy: 0.5319 - val_loss: 2.5187 - val_accuracy: 0.4392\n",
      "Epoch 70/200\n",
      "696/696 [==============================] - 55s 79ms/step - loss: 1.8673 - accuracy: 0.5383 - val_loss: 2.5388 - val_accuracy: 0.4356\n",
      "Epoch 71/200\n",
      "696/696 [==============================] - 55s 79ms/step - loss: 1.8846 - accuracy: 0.5332 - val_loss: 2.5427 - val_accuracy: 0.4234\n",
      "Epoch 72/200\n",
      "696/696 [==============================] - 55s 79ms/step - loss: 1.8742 - accuracy: 0.5391 - val_loss: 2.5303 - val_accuracy: 0.4361\n",
      "Epoch 73/200\n",
      "696/696 [==============================] - 55s 80ms/step - loss: 1.8499 - accuracy: 0.5416 - val_loss: 2.5112 - val_accuracy: 0.4313\n",
      "Epoch 74/200\n",
      "696/696 [==============================] - 55s 79ms/step - loss: 1.8451 - accuracy: 0.5455 - val_loss: 2.5148 - val_accuracy: 0.4415\n",
      "Epoch 75/200\n",
      "696/696 [==============================] - 55s 79ms/step - loss: 1.8502 - accuracy: 0.5416 - val_loss: 2.5023 - val_accuracy: 0.4406\n",
      "Epoch 76/200\n",
      "696/696 [==============================] - 55s 80ms/step - loss: 1.8252 - accuracy: 0.5438 - val_loss: 2.5008 - val_accuracy: 0.4474\n",
      "Epoch 77/200\n",
      "696/696 [==============================] - 55s 80ms/step - loss: 1.8724 - accuracy: 0.5362 - val_loss: 2.4829 - val_accuracy: 0.4419\n",
      "Epoch 78/200\n",
      "696/696 [==============================] - 55s 80ms/step - loss: 1.8492 - accuracy: 0.5412 - val_loss: 2.4549 - val_accuracy: 0.4503\n",
      "Epoch 79/200\n",
      "696/696 [==============================] - 55s 78ms/step - loss: 1.8410 - accuracy: 0.5431 - val_loss: 2.5186 - val_accuracy: 0.4432\n",
      "Epoch 80/200\n",
      "696/696 [==============================] - 55s 80ms/step - loss: 1.8429 - accuracy: 0.5409 - val_loss: 2.5149 - val_accuracy: 0.4372\n",
      "Epoch 81/200\n",
      "696/696 [==============================] - 55s 79ms/step - loss: 1.8298 - accuracy: 0.5498 - val_loss: 2.5441 - val_accuracy: 0.4460\n",
      "Epoch 82/200\n",
      "696/696 [==============================] - 54s 78ms/step - loss: 1.8160 - accuracy: 0.5487 - val_loss: 2.4269 - val_accuracy: 0.4494\n",
      "Epoch 83/200\n",
      "696/696 [==============================] - 55s 79ms/step - loss: 1.8199 - accuracy: 0.5522 - val_loss: 2.4626 - val_accuracy: 0.4591\n",
      "Epoch 84/200\n",
      "696/696 [==============================] - 55s 79ms/step - loss: 1.8276 - accuracy: 0.5469 - val_loss: 2.4796 - val_accuracy: 0.4479\n",
      "Epoch 85/200\n",
      "696/696 [==============================] - 55s 79ms/step - loss: 1.8044 - accuracy: 0.5510 - val_loss: 2.5505 - val_accuracy: 0.4480\n",
      "Epoch 86/200\n",
      "696/696 [==============================] - 55s 79ms/step - loss: 1.8053 - accuracy: 0.5512 - val_loss: 2.5254 - val_accuracy: 0.4479\n",
      "Epoch 87/200\n",
      "696/696 [==============================] - 55s 79ms/step - loss: 1.7860 - accuracy: 0.5573 - val_loss: 2.4953 - val_accuracy: 0.4472\n",
      "Epoch 88/200\n",
      "696/696 [==============================] - 55s 79ms/step - loss: 1.8055 - accuracy: 0.5549 - val_loss: 2.5212 - val_accuracy: 0.4542\n",
      "Epoch 89/200\n",
      "696/696 [==============================] - 55s 79ms/step - loss: 1.8024 - accuracy: 0.5570 - val_loss: 2.4597 - val_accuracy: 0.4577\n",
      "Epoch 90/200\n",
      "696/696 [==============================] - 55s 79ms/step - loss: 1.7875 - accuracy: 0.5581 - val_loss: 2.4645 - val_accuracy: 0.4590\n",
      "Epoch 91/200\n",
      "696/696 [==============================] - 55s 79ms/step - loss: 1.7724 - accuracy: 0.5606 - val_loss: 2.4826 - val_accuracy: 0.4545\n",
      "Epoch 92/200\n",
      "696/696 [==============================] - 55s 79ms/step - loss: 1.7767 - accuracy: 0.5591 - val_loss: 2.5058 - val_accuracy: 0.4502\n",
      "Epoch 93/200\n",
      "696/696 [==============================] - 55s 79ms/step - loss: 1.7818 - accuracy: 0.5594 - val_loss: 2.4394 - val_accuracy: 0.4673\n",
      "Epoch 94/200\n",
      "696/696 [==============================] - 55s 79ms/step - loss: 1.7935 - accuracy: 0.5570 - val_loss: 2.4559 - val_accuracy: 0.4620\n",
      "Epoch 95/200\n",
      "696/696 [==============================] - 55s 79ms/step - loss: 1.7579 - accuracy: 0.5647 - val_loss: 2.4883 - val_accuracy: 0.4575\n",
      "Epoch 96/200\n",
      "696/696 [==============================] - 55s 79ms/step - loss: 1.7743 - accuracy: 0.5592 - val_loss: 2.5431 - val_accuracy: 0.4487\n",
      "Epoch 97/200\n",
      "696/696 [==============================] - 55s 79ms/step - loss: 1.7762 - accuracy: 0.5588 - val_loss: 2.4698 - val_accuracy: 0.4512\n",
      "Epoch 98/200\n",
      "696/696 [==============================] - 57s 82ms/step - loss: 1.7628 - accuracy: 0.5618 - val_loss: 2.4887 - val_accuracy: 0.4565\n",
      "Epoch 99/200\n",
      "696/696 [==============================] - 58s 83ms/step - loss: 1.7771 - accuracy: 0.5605 - val_loss: 2.4081 - val_accuracy: 0.4696\n",
      "Epoch 100/200\n",
      "696/696 [==============================] - 61s 88ms/step - loss: 1.7573 - accuracy: 0.5622 - val_loss: 2.4686 - val_accuracy: 0.4611\n",
      "Epoch 101/200\n",
      "696/696 [==============================] - 61s 88ms/step - loss: 1.7678 - accuracy: 0.5627 - val_loss: 2.5630 - val_accuracy: 0.4490\n",
      "Epoch 102/200\n",
      "696/696 [==============================] - 62s 89ms/step - loss: 1.7734 - accuracy: 0.5634 - val_loss: 2.4376 - val_accuracy: 0.4645\n",
      "Epoch 103/200\n",
      "696/696 [==============================] - 57s 82ms/step - loss: 1.7759 - accuracy: 0.5618 - val_loss: 2.5206 - val_accuracy: 0.4615\n",
      "Epoch 104/200\n",
      "696/696 [==============================] - 57s 82ms/step - loss: 1.7555 - accuracy: 0.5604 - val_loss: 2.4311 - val_accuracy: 0.4623\n",
      "Epoch 105/200\n",
      "696/696 [==============================] - 60s 86ms/step - loss: 1.7356 - accuracy: 0.5692 - val_loss: 2.5001 - val_accuracy: 0.4596\n",
      "Epoch 106/200\n",
      "696/696 [==============================] - 64s 92ms/step - loss: 1.7636 - accuracy: 0.5629 - val_loss: 2.4614 - val_accuracy: 0.4663\n",
      "Epoch 107/200\n",
      "696/696 [==============================] - 62s 89ms/step - loss: 1.7463 - accuracy: 0.5678 - val_loss: 2.4699 - val_accuracy: 0.4573\n",
      "Epoch 108/200\n",
      "696/696 [==============================] - 64s 92ms/step - loss: 1.7409 - accuracy: 0.5658 - val_loss: 2.4559 - val_accuracy: 0.4681\n",
      "Epoch 109/200\n",
      "696/696 [==============================] - 63s 91ms/step - loss: 1.7715 - accuracy: 0.5617 - val_loss: 2.4283 - val_accuracy: 0.4749\n",
      "Epoch 110/200\n",
      "696/696 [==============================] - 60s 86ms/step - loss: 1.7197 - accuracy: 0.5736 - val_loss: 2.4447 - val_accuracy: 0.4699\n",
      "Epoch 111/200\n",
      "696/696 [==============================] - 61s 88ms/step - loss: 1.7487 - accuracy: 0.5655 - val_loss: 2.4250 - val_accuracy: 0.4675\n",
      "Epoch 112/200\n",
      "696/696 [==============================] - 60s 87ms/step - loss: 1.7344 - accuracy: 0.5719 - val_loss: 2.4557 - val_accuracy: 0.4655\n",
      "Epoch 113/200\n"
     ]
    },
    {
     "name": "stdout",
     "output_type": "stream",
     "text": [
      "696/696 [==============================] - 59s 85ms/step - loss: 1.7270 - accuracy: 0.5723 - val_loss: 2.4709 - val_accuracy: 0.4613\n",
      "Epoch 114/200\n",
      "696/696 [==============================] - 59s 85ms/step - loss: 1.7193 - accuracy: 0.5725 - val_loss: 2.4512 - val_accuracy: 0.4675\n",
      "Epoch 115/200\n",
      "696/696 [==============================] - 59s 85ms/step - loss: 1.7421 - accuracy: 0.5707 - val_loss: 2.5005 - val_accuracy: 0.4655\n",
      "Epoch 116/200\n",
      "696/696 [==============================] - 59s 84ms/step - loss: 1.7348 - accuracy: 0.5716 - val_loss: 2.4705 - val_accuracy: 0.4630\n",
      "Epoch 117/200\n",
      "696/696 [==============================] - 59s 85ms/step - loss: 1.7286 - accuracy: 0.5723 - val_loss: 2.4883 - val_accuracy: 0.4661\n",
      "Epoch 118/200\n",
      "696/696 [==============================] - 59s 85ms/step - loss: 1.7249 - accuracy: 0.5731 - val_loss: 2.4340 - val_accuracy: 0.4698\n",
      "Epoch 119/200\n",
      "696/696 [==============================] - 59s 85ms/step - loss: 1.7143 - accuracy: 0.5762 - val_loss: 2.4526 - val_accuracy: 0.4600\n",
      "Epoch 120/200\n",
      "696/696 [==============================] - 60s 86ms/step - loss: 1.7349 - accuracy: 0.5728 - val_loss: 2.4381 - val_accuracy: 0.4797\n",
      "Epoch 121/200\n",
      "696/696 [==============================] - 60s 86ms/step - loss: 1.7057 - accuracy: 0.5777 - val_loss: 2.4976 - val_accuracy: 0.4666\n",
      "Epoch 122/200\n",
      "696/696 [==============================] - 59s 85ms/step - loss: 1.7036 - accuracy: 0.5798 - val_loss: 2.3852 - val_accuracy: 0.4746\n",
      "Epoch 123/200\n",
      "696/696 [==============================] - 59s 85ms/step - loss: 1.7089 - accuracy: 0.5780 - val_loss: 2.4057 - val_accuracy: 0.4834\n",
      "Epoch 124/200\n",
      "696/696 [==============================] - 59s 85ms/step - loss: 1.7043 - accuracy: 0.5788 - val_loss: 2.4312 - val_accuracy: 0.4733\n",
      "Epoch 125/200\n",
      "696/696 [==============================] - 59s 85ms/step - loss: 1.7129 - accuracy: 0.5756 - val_loss: 2.4454 - val_accuracy: 0.4673\n",
      "Epoch 126/200\n",
      "696/696 [==============================] - 60s 86ms/step - loss: 1.6925 - accuracy: 0.5800 - val_loss: 2.4262 - val_accuracy: 0.4758\n",
      "Epoch 127/200\n",
      "696/696 [==============================] - 59s 85ms/step - loss: 1.7129 - accuracy: 0.5743 - val_loss: 2.4816 - val_accuracy: 0.4641\n",
      "Epoch 128/200\n",
      "696/696 [==============================] - 59s 85ms/step - loss: 1.7076 - accuracy: 0.5836 - val_loss: 2.4601 - val_accuracy: 0.4706\n",
      "Epoch 129/200\n",
      "696/696 [==============================] - 59s 85ms/step - loss: 1.6878 - accuracy: 0.5806 - val_loss: 2.4093 - val_accuracy: 0.4829\n",
      "Epoch 130/200\n",
      "696/696 [==============================] - 59s 85ms/step - loss: 1.7137 - accuracy: 0.5810 - val_loss: 2.3999 - val_accuracy: 0.4806\n",
      "Epoch 131/200\n",
      "696/696 [==============================] - 59s 85ms/step - loss: 1.6838 - accuracy: 0.5841 - val_loss: 2.4999 - val_accuracy: 0.4688\n",
      "Epoch 132/200\n",
      "696/696 [==============================] - 60s 86ms/step - loss: 1.7164 - accuracy: 0.5809 - val_loss: 2.4028 - val_accuracy: 0.4789\n",
      "Epoch 133/200\n",
      "696/696 [==============================] - 63s 90ms/step - loss: 1.6914 - accuracy: 0.5854 - val_loss: 2.4185 - val_accuracy: 0.4756\n",
      "Epoch 134/200\n",
      "696/696 [==============================] - 60s 87ms/step - loss: 1.7019 - accuracy: 0.5807 - val_loss: 2.4556 - val_accuracy: 0.4809\n",
      "Epoch 135/200\n",
      "696/696 [==============================] - 60s 86ms/step - loss: 1.6920 - accuracy: 0.5788 - val_loss: 2.3923 - val_accuracy: 0.4874\n",
      "Epoch 136/200\n",
      "696/696 [==============================] - 60s 86ms/step - loss: 1.7100 - accuracy: 0.5755 - val_loss: 2.4610 - val_accuracy: 0.4764\n",
      "Epoch 137/200\n",
      "696/696 [==============================] - 60s 86ms/step - loss: 1.6876 - accuracy: 0.5842 - val_loss: 2.4076 - val_accuracy: 0.4791\n",
      "Epoch 138/200\n",
      "696/696 [==============================] - 62s 89ms/step - loss: 1.6908 - accuracy: 0.5808 - val_loss: 2.3679 - val_accuracy: 0.4869\n",
      "Epoch 139/200\n",
      "696/696 [==============================] - 62s 89ms/step - loss: 1.6757 - accuracy: 0.5838 - val_loss: 2.4446 - val_accuracy: 0.4769\n",
      "Epoch 140/200\n",
      "696/696 [==============================] - 63s 90ms/step - loss: 1.7104 - accuracy: 0.5808 - val_loss: 2.4332 - val_accuracy: 0.4738\n",
      "Epoch 141/200\n",
      "696/696 [==============================] - 62s 89ms/step - loss: 1.7045 - accuracy: 0.5797 - val_loss: 2.4659 - val_accuracy: 0.4801\n",
      "Epoch 142/200\n",
      "696/696 [==============================] - 65s 94ms/step - loss: 1.6783 - accuracy: 0.5877 - val_loss: 2.3649 - val_accuracy: 0.4944\n",
      "Epoch 143/200\n",
      "696/696 [==============================] - 61s 87ms/step - loss: 1.6587 - accuracy: 0.5932 - val_loss: 2.4113 - val_accuracy: 0.4851\n",
      "Epoch 144/200\n",
      "696/696 [==============================] - 60s 86ms/step - loss: 1.6861 - accuracy: 0.5844 - val_loss: 2.4294 - val_accuracy: 0.4759\n",
      "Epoch 145/200\n",
      "696/696 [==============================] - 60s 86ms/step - loss: 1.6902 - accuracy: 0.5818 - val_loss: 2.4356 - val_accuracy: 0.4766\n",
      "Epoch 146/200\n",
      "696/696 [==============================] - 60s 86ms/step - loss: 1.6788 - accuracy: 0.5844 - val_loss: 2.4524 - val_accuracy: 0.4684\n",
      "Epoch 147/200\n",
      "696/696 [==============================] - 60s 86ms/step - loss: 1.6623 - accuracy: 0.5903 - val_loss: 2.4659 - val_accuracy: 0.4867\n",
      "Epoch 148/200\n",
      "696/696 [==============================] - 60s 86ms/step - loss: 1.6964 - accuracy: 0.5829 - val_loss: 2.4423 - val_accuracy: 0.4802\n",
      "Epoch 149/200\n",
      "696/696 [==============================] - 59s 85ms/step - loss: 1.6742 - accuracy: 0.5854 - val_loss: 2.4191 - val_accuracy: 0.4831\n",
      "Epoch 150/200\n",
      "696/696 [==============================] - 60s 86ms/step - loss: 1.6706 - accuracy: 0.5930 - val_loss: 2.4985 - val_accuracy: 0.4781\n",
      "Epoch 151/200\n",
      "696/696 [==============================] - 60s 86ms/step - loss: 1.6871 - accuracy: 0.5840 - val_loss: 2.4256 - val_accuracy: 0.4879\n",
      "Epoch 152/200\n",
      "696/696 [==============================] - 59s 85ms/step - loss: 1.6712 - accuracy: 0.5904 - val_loss: 2.4677 - val_accuracy: 0.4821\n",
      "Epoch 153/200\n",
      "696/696 [==============================] - 59s 85ms/step - loss: 1.6840 - accuracy: 0.5846 - val_loss: 2.3640 - val_accuracy: 0.4817\n",
      "Epoch 154/200\n",
      "696/696 [==============================] - 60s 85ms/step - loss: 1.6560 - accuracy: 0.5904 - val_loss: 2.4475 - val_accuracy: 0.4777\n",
      "Epoch 155/200\n",
      "696/696 [==============================] - 59s 85ms/step - loss: 1.6540 - accuracy: 0.5931 - val_loss: 2.3637 - val_accuracy: 0.4993\n",
      "Epoch 156/200\n",
      "696/696 [==============================] - 59s 84ms/step - loss: 1.6612 - accuracy: 0.5915 - val_loss: 2.4169 - val_accuracy: 0.4822\n",
      "Epoch 157/200\n",
      "696/696 [==============================] - 59s 84ms/step - loss: 1.6605 - accuracy: 0.5914 - val_loss: 2.3603 - val_accuracy: 0.4939\n",
      "Epoch 158/200\n",
      "696/696 [==============================] - 59s 85ms/step - loss: 1.6684 - accuracy: 0.5897 - val_loss: 2.4368 - val_accuracy: 0.4945\n",
      "Epoch 159/200\n",
      "696/696 [==============================] - 60s 86ms/step - loss: 1.6712 - accuracy: 0.5868 - val_loss: 2.4990 - val_accuracy: 0.4684\n",
      "Epoch 160/200\n",
      "696/696 [==============================] - 59s 85ms/step - loss: 1.6411 - accuracy: 0.5981 - val_loss: 2.4082 - val_accuracy: 0.4907\n",
      "Epoch 161/200\n",
      "696/696 [==============================] - 59s 85ms/step - loss: 1.6843 - accuracy: 0.5874 - val_loss: 2.4008 - val_accuracy: 0.4879\n",
      "Epoch 162/200\n",
      "696/696 [==============================] - 60s 86ms/step - loss: 1.6841 - accuracy: 0.5879 - val_loss: 2.4953 - val_accuracy: 0.4804\n",
      "Epoch 163/200\n",
      "696/696 [==============================] - 60s 86ms/step - loss: 1.6382 - accuracy: 0.5953 - val_loss: 2.4253 - val_accuracy: 0.4947\n",
      "Epoch 164/200\n",
      "696/696 [==============================] - 59s 85ms/step - loss: 1.6533 - accuracy: 0.5926 - val_loss: 2.4161 - val_accuracy: 0.4867\n",
      "Epoch 165/200\n",
      "696/696 [==============================] - 60s 86ms/step - loss: 1.6574 - accuracy: 0.5909 - val_loss: 2.4914 - val_accuracy: 0.4797\n",
      "Epoch 166/200\n",
      "696/696 [==============================] - 60s 86ms/step - loss: 1.6501 - accuracy: 0.5928 - val_loss: 2.4269 - val_accuracy: 0.4804\n",
      "Epoch 167/200\n",
      "696/696 [==============================] - 60s 86ms/step - loss: 1.6566 - accuracy: 0.5913 - val_loss: 2.4555 - val_accuracy: 0.4847\n",
      "Epoch 168/200\n",
      "696/696 [==============================] - 60s 86ms/step - loss: 1.6641 - accuracy: 0.5921 - val_loss: 2.3966 - val_accuracy: 0.4935\n"
     ]
    },
    {
     "name": "stdout",
     "output_type": "stream",
     "text": [
      "Epoch 169/200\n",
      "696/696 [==============================] - 59s 85ms/step - loss: 1.6330 - accuracy: 0.5934 - val_loss: 2.5128 - val_accuracy: 0.4776\n",
      "Epoch 170/200\n",
      "696/696 [==============================] - 60s 85ms/step - loss: 1.6378 - accuracy: 0.5939 - val_loss: 2.3921 - val_accuracy: 0.4902\n",
      "Epoch 171/200\n",
      "696/696 [==============================] - 60s 86ms/step - loss: 1.6593 - accuracy: 0.5910 - val_loss: 2.3880 - val_accuracy: 0.4922\n",
      "Epoch 172/200\n",
      "696/696 [==============================] - 59s 85ms/step - loss: 1.6543 - accuracy: 0.5936 - val_loss: 2.3820 - val_accuracy: 0.4962\n",
      "Epoch 173/200\n",
      "696/696 [==============================] - 59s 85ms/step - loss: 1.6508 - accuracy: 0.5983 - val_loss: 2.4140 - val_accuracy: 0.4859\n",
      "Epoch 174/200\n",
      "696/696 [==============================] - 59s 84ms/step - loss: 1.6541 - accuracy: 0.5943 - val_loss: 2.4537 - val_accuracy: 0.4851\n",
      "Epoch 175/200\n",
      "696/696 [==============================] - 59s 85ms/step - loss: 1.6476 - accuracy: 0.5996 - val_loss: 2.3640 - val_accuracy: 0.5086\n",
      "Epoch 176/200\n",
      "696/696 [==============================] - 60s 86ms/step - loss: 1.6765 - accuracy: 0.5881 - val_loss: 2.4305 - val_accuracy: 0.4922\n",
      "Epoch 177/200\n",
      "696/696 [==============================] - 60s 86ms/step - loss: 1.6397 - accuracy: 0.5951 - val_loss: 2.4553 - val_accuracy: 0.4857\n",
      "Epoch 178/200\n",
      "696/696 [==============================] - 59s 85ms/step - loss: 1.6751 - accuracy: 0.5907 - val_loss: 2.4643 - val_accuracy: 0.4890\n",
      "Epoch 179/200\n",
      "696/696 [==============================] - 59s 85ms/step - loss: 1.6375 - accuracy: 0.5944 - val_loss: 2.4696 - val_accuracy: 0.4831\n",
      "Epoch 180/200\n",
      "696/696 [==============================] - 61s 87ms/step - loss: 1.6385 - accuracy: 0.5953 - val_loss: 2.4357 - val_accuracy: 0.4950\n",
      "Epoch 181/200\n",
      "696/696 [==============================] - 60s 86ms/step - loss: 1.6486 - accuracy: 0.6002 - val_loss: 2.4365 - val_accuracy: 0.4922\n",
      "Epoch 182/200\n",
      "696/696 [==============================] - 59s 85ms/step - loss: 1.6439 - accuracy: 0.5992 - val_loss: 2.4166 - val_accuracy: 0.4917\n",
      "Epoch 183/200\n",
      "696/696 [==============================] - 59s 85ms/step - loss: 1.6382 - accuracy: 0.5967 - val_loss: 2.4611 - val_accuracy: 0.4895\n",
      "Epoch 184/200\n",
      "696/696 [==============================] - 60s 86ms/step - loss: 1.6357 - accuracy: 0.5958 - val_loss: 2.4397 - val_accuracy: 0.4925\n",
      "Epoch 185/200\n",
      "696/696 [==============================] - 59s 85ms/step - loss: 1.6238 - accuracy: 0.5969 - val_loss: 2.5058 - val_accuracy: 0.4856\n",
      "Epoch 186/200\n",
      "696/696 [==============================] - 60s 86ms/step - loss: 1.6255 - accuracy: 0.6010 - val_loss: 2.4521 - val_accuracy: 0.4792\n",
      "Epoch 187/200\n",
      "696/696 [==============================] - 59s 85ms/step - loss: 1.6406 - accuracy: 0.6005 - val_loss: 2.3710 - val_accuracy: 0.4958\n",
      "Epoch 188/200\n",
      "696/696 [==============================] - 60s 85ms/step - loss: 1.6113 - accuracy: 0.6025 - val_loss: 2.4487 - val_accuracy: 0.4857\n",
      "Epoch 189/200\n",
      "696/696 [==============================] - 60s 86ms/step - loss: 1.6170 - accuracy: 0.6030 - val_loss: 2.3956 - val_accuracy: 0.5023\n",
      "Epoch 190/200\n",
      "696/696 [==============================] - 60s 86ms/step - loss: 1.6480 - accuracy: 0.5961 - val_loss: 2.4015 - val_accuracy: 0.4917\n",
      "Epoch 191/200\n",
      "696/696 [==============================] - 60s 86ms/step - loss: 1.6250 - accuracy: 0.6028 - val_loss: 2.3898 - val_accuracy: 0.4934\n",
      "Epoch 192/200\n",
      "696/696 [==============================] - 59s 85ms/step - loss: 1.6326 - accuracy: 0.5978 - val_loss: 2.4628 - val_accuracy: 0.4877\n",
      "Epoch 193/200\n",
      "696/696 [==============================] - 59s 85ms/step - loss: 1.6403 - accuracy: 0.5977 - val_loss: 2.4013 - val_accuracy: 0.4960\n",
      "Epoch 194/200\n",
      "696/696 [==============================] - 60s 85ms/step - loss: 1.6259 - accuracy: 0.6027 - val_loss: 2.4027 - val_accuracy: 0.4849\n",
      "Epoch 195/200\n",
      "696/696 [==============================] - 60s 87ms/step - loss: 1.6197 - accuracy: 0.6046 - val_loss: 2.4342 - val_accuracy: 0.5020\n",
      "Epoch 196/200\n",
      "696/696 [==============================] - 59s 85ms/step - loss: 1.6104 - accuracy: 0.6027 - val_loss: 2.3958 - val_accuracy: 0.4884\n",
      "Epoch 197/200\n",
      "696/696 [==============================] - 60s 86ms/step - loss: 1.6042 - accuracy: 0.6061 - val_loss: 2.4051 - val_accuracy: 0.4900\n",
      "Epoch 198/200\n",
      "696/696 [==============================] - 59s 85ms/step - loss: 1.6388 - accuracy: 0.6009 - val_loss: 2.4586 - val_accuracy: 0.5025\n",
      "Epoch 199/200\n",
      "696/696 [==============================] - 59s 85ms/step - loss: 1.6304 - accuracy: 0.6026 - val_loss: 2.3908 - val_accuracy: 0.5032\n",
      "Epoch 200/200\n",
      "696/696 [==============================] - 59s 85ms/step - loss: 1.6210 - accuracy: 0.6049 - val_loss: 2.4384 - val_accuracy: 0.4877\n",
      "189/189 [==============================] - 12s 63ms/step - loss: 2.4304 - accuracy: 0.4935\n"
     ]
    },
    {
     "data": {
      "text/plain": [
       "[2.4303853511810303, 0.4935237467288971]"
      ]
     },
     "execution_count": 11,
     "metadata": {},
     "output_type": "execute_result"
    }
   ],
   "source": [
    "base_model = MobileNetV2(weights='imagenet', include_top=False, input_shape=(64, 64, 3))\n",
    "\n",
    "# Freeze the layers of the pre-trained model\n",
    "for layer in base_model.layers:\n",
    "    layer.trainable = False\n",
    "\n",
    "model = Sequential()\n",
    "\n",
    "# Add the pre-trained MobileNetV2 model\n",
    "model.add(base_model)\n",
    "\n",
    "# Add Global Average Pooling 2D layer\n",
    "model.add(GlobalAveragePooling2D())\n",
    "\n",
    "model.add(Dense(512, activation='relu'))\n",
    "model.add(Dense(513, activation='softmax'))\n",
    "\n",
    "model.summary()\n",
    "\n",
    "# Compile the model\n",
    "model.compile(loss='categorical_crossentropy',\n",
    "              optimizer=Adam(lr=0.0001),\n",
    "              metrics=['accuracy'])\n",
    "\n",
    "# Train the model\n",
    "model.fit(training_set, epochs=200, validation_data=test_set)\n",
    "\n",
    "# Evaluate on unseen data\n",
    "model.evaluate(test_set)"
   ]
  },
  {
   "cell_type": "markdown",
   "id": "3aa203f3",
   "metadata": {},
   "source": [
    "### Transfer Learning - ResNet"
   ]
  },
  {
   "cell_type": "code",
   "execution_count": 3,
   "id": "2b510639",
   "metadata": {},
   "outputs": [],
   "source": [
    "base_model = ResNet152V2(weights='imagenet', include_top=False, input_shape=(64, 64, 3))\n",
    "\n",
    "# Freeze the convolutional layers of the ResNet152V2 model\n",
    "for layer in base_model.layers:\n",
    "    layer.trainable = False"
   ]
  },
  {
   "cell_type": "code",
   "execution_count": 4,
   "id": "826941ae",
   "metadata": {},
   "outputs": [],
   "source": [
    "model = Sequential()\n",
    "\n",
    "model.add(base_model)\n",
    "\n",
    "model.add(Conv2D(32, kernel_size=(3, 3), activation='relu', padding='same'))\n",
    "model.add(MaxPool2D(pool_size=(2, 2), padding='same'))\n",
    "\n",
    "model.add(Conv2D(32, kernel_size=(3, 3), activation='relu', padding='same'))\n",
    "model.add(MaxPool2D(pool_size=(2, 2), padding='same'))\n",
    "\n",
    "model.add(Flatten())\n",
    "\n",
    "model.add(Dense(512, activation='relu'))\n",
    "model.add(Dense(513, activation='softmax'))"
   ]
  },
  {
   "cell_type": "code",
   "execution_count": 5,
   "id": "ba7bebef",
   "metadata": {
    "scrolled": true
   },
   "outputs": [
    {
     "name": "stdout",
     "output_type": "stream",
     "text": [
      "Model: \"sequential\"\n",
      "_________________________________________________________________\n",
      " Layer (type)                Output Shape              Param #   \n",
      "=================================================================\n",
      " resnet152v2 (Functional)    (None, 2, 2, 2048)        58331648  \n",
      "                                                                 \n",
      " conv2d (Conv2D)             (None, 2, 2, 32)          589856    \n",
      "                                                                 \n",
      " max_pooling2d_3 (MaxPoolin  (None, 1, 1, 32)          0         \n",
      " g2D)                                                            \n",
      "                                                                 \n",
      " conv2d_1 (Conv2D)           (None, 1, 1, 32)          9248      \n",
      "                                                                 \n",
      " max_pooling2d_4 (MaxPoolin  (None, 1, 1, 32)          0         \n",
      " g2D)                                                            \n",
      "                                                                 \n",
      " flatten (Flatten)           (None, 32)                0         \n",
      "                                                                 \n",
      " dense (Dense)               (None, 512)               16896     \n",
      "                                                                 \n",
      " dense_1 (Dense)             (None, 513)               263169    \n",
      "                                                                 \n",
      "=================================================================\n",
      "Total params: 59210817 (225.87 MB)\n",
      "Trainable params: 879169 (3.35 MB)\n",
      "Non-trainable params: 58331648 (222.52 MB)\n",
      "_________________________________________________________________\n"
     ]
    }
   ],
   "source": [
    "model.summary()"
   ]
  },
  {
   "cell_type": "code",
   "execution_count": 6,
   "id": "ea73efea",
   "metadata": {},
   "outputs": [],
   "source": [
    "# Compile the model\n",
    "model.compile(loss='categorical_crossentropy', optimizer='adam', metrics=['accuracy'])"
   ]
  },
  {
   "cell_type": "code",
   "execution_count": 7,
   "id": "f1f4a003",
   "metadata": {},
   "outputs": [],
   "source": [
    "# Create ImageDataGenerators\n",
    "train_datagen = ImageDataGenerator(rescale=1/255, shear_range=0.2, zoom_range=0.2, horizontal_flip=True)\n",
    "test_datagen = ImageDataGenerator(rescale=1/255, shear_range=0.2, zoom_range=0.2, horizontal_flip=True)"
   ]
  },
  {
   "cell_type": "code",
   "execution_count": 14,
   "id": "0bb66f2b",
   "metadata": {},
   "outputs": [
    {
     "name": "stdout",
     "output_type": "stream",
     "text": [
      "Found 22258 images belonging to 513 classes.\n"
     ]
    }
   ],
   "source": [
    "# Load and preprocess the data using ImageDataGenerators\n",
    "training_set = train_datagen.flow_from_directory(\n",
    "    r\"C:\\Users\\sndes\\JupyterProjects\\FinalProject\\Fin_DS\\train\",\n",
    "    target_size=(64, 64),\n",
    "    class_mode='categorical'\n",
    ")"
   ]
  },
  {
   "cell_type": "code",
   "execution_count": 15,
   "id": "f7ad1b02",
   "metadata": {},
   "outputs": [
    {
     "name": "stdout",
     "output_type": "stream",
     "text": [
      "Found 6022 images belonging to 513 classes.\n"
     ]
    }
   ],
   "source": [
    "test_set = test_datagen.flow_from_directory(\n",
    "    r\"C:\\Users\\sndes\\JupyterProjects\\FinalProject\\Fin_DS\\val\",\n",
    "    target_size=(64, 64),\n",
    "    class_mode='categorical'\n",
    ")"
   ]
  },
  {
   "cell_type": "code",
   "execution_count": 12,
   "id": "aad38197",
   "metadata": {},
   "outputs": [
    {
     "name": "stdout",
     "output_type": "stream",
     "text": [
      "Epoch 1/5\n",
      "696/696 [==============================] - 263s 378ms/step - loss: 2.4362 - accuracy: 0.3997\n",
      "Epoch 2/5\n",
      "696/696 [==============================] - 272s 390ms/step - loss: 2.4012 - accuracy: 0.4059\n",
      "Epoch 3/5\n",
      "696/696 [==============================] - 272s 391ms/step - loss: 2.4107 - accuracy: 0.4028\n",
      "Epoch 4/5\n",
      "696/696 [==============================] - 279s 401ms/step - loss: 2.3884 - accuracy: 0.4100\n",
      "Epoch 5/5\n",
      "696/696 [==============================] - 275s 394ms/step - loss: 2.3834 - accuracy: 0.4104\n"
     ]
    },
    {
     "data": {
      "text/plain": [
       "<keras.src.callbacks.History at 0x1be0aff2110>"
      ]
     },
     "execution_count": 12,
     "metadata": {},
     "output_type": "execute_result"
    }
   ],
   "source": [
    "# Train the model\n",
    "model.fit(training_set, epochs=5)"
   ]
  },
  {
   "cell_type": "code",
   "execution_count": 13,
   "id": "89f0629b",
   "metadata": {
    "scrolled": true
   },
   "outputs": [
    {
     "name": "stdout",
     "output_type": "stream",
     "text": [
      "189/189 [==============================] - 66s 349ms/step - loss: 2.7719 - accuracy: 0.3404\n"
     ]
    },
    {
     "data": {
      "text/plain": [
       "[2.7718911170959473, 0.3404184579849243]"
      ]
     },
     "execution_count": 13,
     "metadata": {},
     "output_type": "execute_result"
    }
   ],
   "source": [
    "model.evaluate(test_set)"
   ]
  },
  {
   "cell_type": "code",
   "execution_count": null,
   "id": "7fff1c8b",
   "metadata": {},
   "outputs": [],
   "source": [
    "# Load and preprocess a test image\n",
    "test_image = load_img(r\"C:\\Users\\sndes\\JupyterProjects\\FinalProject\\Fin_DS\\val\\र्व\\1_र्व.jpg\", target_size=(64, 64))\n",
    "test_image = img_to_array(test_image)\n",
    "test_image = np.expand_dims(test_image, axis=0)\n",
    "\n",
    "# Get class indices\n",
    "indices = training_set.class_indices\n",
    "\n",
    "# Make predictions\n",
    "result = np.argmax(model.predict(test_image, verbose=False))\n",
    "print(list(indices.keys())[list(indices.values()).index(result)])"
   ]
  }
 ],
 "metadata": {
  "colab": {
   "provenance": []
  },
  "kernelspec": {
   "display_name": "Python 3 (ipykernel)",
   "language": "python",
   "name": "python3"
  },
  "language_info": {
   "codemirror_mode": {
    "name": "ipython",
    "version": 3
   },
   "file_extension": ".py",
   "mimetype": "text/x-python",
   "name": "python",
   "nbconvert_exporter": "python",
   "pygments_lexer": "ipython3",
   "version": "3.11.4"
  }
 },
 "nbformat": 4,
 "nbformat_minor": 5
}
