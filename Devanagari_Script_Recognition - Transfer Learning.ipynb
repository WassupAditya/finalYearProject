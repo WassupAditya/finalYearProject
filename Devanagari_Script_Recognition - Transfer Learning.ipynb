{
 "cells": [
  {
   "cell_type": "markdown",
   "id": "5d09805c",
   "metadata": {
    "id": "5d09805c"
   },
   "source": [
    "### Import all necessary libraries"
   ]
  },
  {
   "cell_type": "code",
   "execution_count": 1,
   "id": "sYEGc9fCcoTE",
   "metadata": {
    "colab": {
     "base_uri": "https://localhost:8080/"
    },
    "id": "sYEGc9fCcoTE",
    "outputId": "6f4fcdc0-5da9-420e-9ac1-1be46fe6ddec"
   },
   "outputs": [
    {
     "name": "stdout",
     "output_type": "stream",
     "text": [
      "Collecting keras_preprocessing\n",
      "  Downloading Keras_Preprocessing-1.1.2-py2.py3-none-any.whl (42 kB)\n",
      "     ---------------------------------------- 0.0/42.6 kB ? eta -:--:--\n",
      "     ---------------------------------------- 42.6/42.6 kB 2.0 MB/s eta 0:00:00\n",
      "Requirement already satisfied: numpy>=1.9.1 in c:\\users\\sndes\\anaconda3\\lib\\site-packages (from keras_preprocessing) (1.24.3)\n",
      "Requirement already satisfied: six>=1.9.0 in c:\\users\\sndes\\anaconda3\\lib\\site-packages (from keras_preprocessing) (1.16.0)\n",
      "Installing collected packages: keras_preprocessing\n",
      "Successfully installed keras_preprocessing-1.1.2\n"
     ]
    }
   ],
   "source": [
    "!pip install keras_preprocessing\n",
    "# pip install keras\n",
    "# pip install tensorflow"
   ]
  },
  {
   "cell_type": "code",
   "execution_count": 2,
   "id": "189b315c",
   "metadata": {
    "id": "189b315c"
   },
   "outputs": [],
   "source": [
    "import numpy as np\n",
    "import matplotlib.pyplot as plt\n",
    "from keras.layers import Dense,Conv2D, MaxPool2D,Flatten\n",
    "from keras.optimizers import Adam\n",
    "from keras.utils import plot_model\n",
    "from keras.models import Sequential, Model\n",
    "from keras_preprocessing.image import ImageDataGenerator, load_img, img_to_array\n",
    "from keras.applications import ResNet152V2"
   ]
  },
  {
   "cell_type": "code",
   "execution_count": 2,
   "id": "f6f6cc2a",
   "metadata": {
    "id": "f6f6cc2a"
   },
   "outputs": [],
   "source": [
    "img=load_img(r\"C:\\Users\\sndes\\JupyterProjects\\FinalProject\\Fin_DS\\train\\क\\5_क.jpg\")"
   ]
  },
  {
   "cell_type": "code",
   "execution_count": 3,
   "id": "a3a9e813",
   "metadata": {
    "colab": {
     "base_uri": "https://localhost:8080/"
    },
    "id": "a3a9e813",
    "outputId": "ef0afbc0-b022-445a-959e-8484489b6b42"
   },
   "outputs": [
    {
     "data": {
      "text/plain": [
       "PIL.Image.Image"
      ]
     },
     "execution_count": 3,
     "metadata": {},
     "output_type": "execute_result"
    }
   ],
   "source": [
    "type(img)"
   ]
  },
  {
   "cell_type": "code",
   "execution_count": 4,
   "id": "1b0711ac",
   "metadata": {
    "id": "1b0711ac"
   },
   "outputs": [],
   "source": [
    "img=img_to_array(img)"
   ]
  },
  {
   "cell_type": "code",
   "execution_count": 5,
   "id": "97bc009d",
   "metadata": {
    "colab": {
     "base_uri": "https://localhost:8080/",
     "height": 465
    },
    "id": "97bc009d",
    "outputId": "da77685e-c98f-439b-ab73-2bb4ca59d6db"
   },
   "outputs": [
    {
     "name": "stderr",
     "output_type": "stream",
     "text": [
      "Clipping input data to the valid range for imshow with RGB data ([0..1] for floats or [0..255] for integers).\n"
     ]
    },
    {
     "data": {
      "text/plain": [
       "<matplotlib.image.AxesImage at 0x1c9438ba510>"
      ]
     },
     "execution_count": 5,
     "metadata": {},
     "output_type": "execute_result"
    },
    {
     "data": {
      "image/png": "[encoded data removed]",
      "text/plain": [
       "<Figure size 640x480 with 1 Axes>"
      ]
     },
     "metadata": {},
     "output_type": "display_data"
    }
   ],
   "source": [
    "plt.imshow(img)"
   ]
  },
  {
   "cell_type": "code",
   "execution_count": 6,
   "id": "001113a8",
   "metadata": {
    "colab": {
     "base_uri": "https://localhost:8080/"
    },
    "id": "001113a8",
    "outputId": "3f8e9971-21e5-4e62-8fd3-709d51c1a0fb"
   },
   "outputs": [
    {
     "data": {
      "text/plain": [
       "(64, 64, 3)"
      ]
     },
     "execution_count": 6,
     "metadata": {},
     "output_type": "execute_result"
    }
   ],
   "source": [
    "img.shape"
   ]
  },
  {
   "cell_type": "markdown",
   "id": "0d0f3f5a",
   "metadata": {
    "id": "0d0f3f5a"
   },
   "source": [
    "### Build the CNN model"
   ]
  },
  {
   "cell_type": "code",
   "execution_count": 16,
   "id": "0e941588",
   "metadata": {
    "id": "0e941588"
   },
   "outputs": [],
   "source": [
    "model=Sequential()\n",
    "\n",
    "model.add(Conv2D(32, input_shape=(64,64,3), kernel_size=(3,3),\n",
    "                 activation='relu'))\n",
    "model.add(MaxPool2D(pool_size=(2,2)))\n",
    "\n",
    "\n",
    "model.add(Conv2D(32,kernel_size=(3,3),activation='relu'))\n",
    "model.add(MaxPool2D(pool_size=(2,2)))\n",
    "\n",
    "model.add(Flatten())\n",
    "\n",
    "model.add(Dense(512, activation='relu'))\n",
    "model.add(Dense(513,activation='softmax'))"
   ]
  },
  {
   "cell_type": "code",
   "execution_count": 17,
   "id": "a9df347a",
   "metadata": {
    "colab": {
     "base_uri": "https://localhost:8080/"
    },
    "id": "a9df347a",
    "outputId": "af84f6ac-e65e-46ae-83ad-ebe8573ed660"
   },
   "outputs": [
    {
     "name": "stdout",
     "output_type": "stream",
     "text": [
      "Model: \"sequential_1\"\n",
      "_________________________________________________________________\n",
      " Layer (type)                Output Shape              Param #   \n",
      "=================================================================\n",
      " conv2d_2 (Conv2D)           (None, 62, 62, 32)        896       \n",
      "                                                                 \n",
      " max_pooling2d_2 (MaxPoolin  (None, 31, 31, 32)        0         \n",
      " g2D)                                                            \n",
      "                                                                 \n",
      " conv2d_3 (Conv2D)           (None, 29, 29, 32)        9248      \n",
      "                                                                 \n",
      " max_pooling2d_3 (MaxPoolin  (None, 14, 14, 32)        0         \n",
      " g2D)                                                            \n",
      "                                                                 \n",
      " flatten_1 (Flatten)         (None, 6272)              0         \n",
      "                                                                 \n",
      " dense_2 (Dense)             (None, 512)               3211776   \n",
      "                                                                 \n",
      " dense_3 (Dense)             (None, 513)               263169    \n",
      "                                                                 \n",
      "=================================================================\n",
      "Total params: 3485089 (13.29 MB)\n",
      "Trainable params: 3485089 (13.29 MB)\n",
      "Non-trainable params: 0 (0.00 Byte)\n",
      "_________________________________________________________________\n"
     ]
    }
   ],
   "source": [
    "model.summary()"
   ]
  },
  {
   "cell_type": "markdown",
   "id": "a9a98284",
   "metadata": {
    "id": "a9a98284"
   },
   "source": [
    "### Visualize the model"
   ]
  },
  {
   "cell_type": "code",
   "execution_count": 18,
   "id": "d44c34e3",
   "metadata": {
    "colab": {
     "base_uri": "https://localhost:8080/",
     "height": 812
    },
    "id": "d44c34e3",
    "outputId": "3bfe9c7c-cf65-4b29-a132-207d23fe9e2c"
   },
   "outputs": [
    {
     "name": "stdout",
     "output_type": "stream",
     "text": [
      "You must install pydot (`pip install pydot`) and install graphviz (see instructions at https://graphviz.gitlab.io/download/) for plot_model to work.\n"
     ]
    }
   ],
   "source": [
    "plot_model(model, show_dtype=True, show_layer_names=True, show_layer_activations=True)"
   ]
  },
  {
   "cell_type": "markdown",
   "id": "db15cbef",
   "metadata": {
    "id": "db15cbef"
   },
   "source": [
    "### Compile the model"
   ]
  },
  {
   "cell_type": "code",
   "execution_count": 19,
   "id": "a2c705c7",
   "metadata": {
    "id": "a2c705c7"
   },
   "outputs": [],
   "source": [
    "model.compile(loss = 'categorical_crossentropy',\n",
    "              optimizer = 'adam', metrics = ['accuracy'])"
   ]
  },
  {
   "cell_type": "markdown",
   "id": "6c5a9e65",
   "metadata": {
    "id": "6c5a9e65"
   },
   "source": [
    "### Import the dataset"
   ]
  },
  {
   "cell_type": "code",
   "execution_count": 20,
   "id": "f9f3ee24",
   "metadata": {
    "id": "f9f3ee24"
   },
   "outputs": [],
   "source": [
    "from keras.preprocessing.image import ImageDataGenerator"
   ]
  },
  {
   "cell_type": "code",
   "execution_count": 20,
   "id": "ef71e53e",
   "metadata": {
    "id": "ef71e53e"
   },
   "outputs": [],
   "source": [
    "train_datsgen=ImageDataGenerator(rescale=1/255,\n",
    "                                shear_range=0.2,\n",
    "                                zoom_range=0.2,\n",
    "                                horizontal_flip=True)"
   ]
  },
  {
   "cell_type": "code",
   "execution_count": 21,
   "id": "02552efd",
   "metadata": {
    "id": "02552efd"
   },
   "outputs": [],
   "source": [
    "test_datsgen=ImageDataGenerator(rescale=1/255,\n",
    "                               shear_range=0.2,\n",
    "                                zoom_range=0.2,\n",
    "                                horizontal_flip=True)"
   ]
  },
  {
   "cell_type": "code",
   "execution_count": 22,
   "id": "bb924401",
   "metadata": {
    "colab": {
     "base_uri": "https://localhost:8080/"
    },
    "id": "bb924401",
    "outputId": "e7fb4d8c-228a-4b3a-efd0-f656a93aaa86"
   },
   "outputs": [
    {
     "name": "stdout",
     "output_type": "stream",
     "text": [
      "Found 22258 images belonging to 513 classes.\n"
     ]
    }
   ],
   "source": [
    "training_set=train_datsgen.flow_from_directory(r\"C:\\Users\\sndes\\JupyterProjects\\FinalProject\\Fin_DS\\train\",\n",
    "                                              target_size=(224, 224),\n",
    "                                              class_mode='categorical')"
   ]
  },
  {
   "cell_type": "code",
   "execution_count": 23,
   "id": "15fcef3c",
   "metadata": {
    "colab": {
     "base_uri": "https://localhost:8080/"
    },
    "id": "15fcef3c",
    "outputId": "bec4aa7b-ce7d-4c25-db1c-30fcd311adb4"
   },
   "outputs": [
    {
     "name": "stdout",
     "output_type": "stream",
     "text": [
      "Found 6022 images belonging to 513 classes.\n"
     ]
    }
   ],
   "source": [
    "test_set=train_datsgen.flow_from_directory(r\"C:\\Users\\sndes\\JupyterProjects\\FinalProject\\Fin_DS\\val\",\n",
    "                                              target_size=(224, 224),\n",
    "                                              class_mode='categorical')"
   ]
  },
  {
   "cell_type": "markdown",
   "id": "81bfb590",
   "metadata": {
    "id": "81bfb590"
   },
   "source": [
    "### Train the model"
   ]
  },
  {
   "cell_type": "code",
   "execution_count": 25,
   "id": "0c90ca3a",
   "metadata": {
    "colab": {
     "base_uri": "https://localhost:8080/"
    },
    "id": "0c90ca3a",
    "outputId": "a88f63ba-62dd-4336-d27d-56095196c06e"
   },
   "outputs": [
    {
     "name": "stdout",
     "output_type": "stream",
     "text": [
      "Epoch 1/100\n",
      "696/696 [==============================] - 255s 365ms/step - loss: 6.2172 - accuracy: 0.0034\n",
      "Epoch 2/100\n",
      "696/696 [==============================] - 68s 98ms/step - loss: 5.4054 - accuracy: 0.0509\n",
      "Epoch 3/100\n",
      "696/696 [==============================] - 68s 97ms/step - loss: 4.0653 - accuracy: 0.1917\n",
      "Epoch 4/100\n",
      "696/696 [==============================] - 68s 97ms/step - loss: 3.0250 - accuracy: 0.3488\n",
      "Epoch 5/100\n",
      "696/696 [==============================] - 68s 97ms/step - loss: 2.3113 - accuracy: 0.4832\n",
      "Epoch 6/100\n",
      "696/696 [==============================] - 69s 99ms/step - loss: 1.8226 - accuracy: 0.5737\n",
      "Epoch 7/100\n",
      "696/696 [==============================] - 68s 97ms/step - loss: 1.4595 - accuracy: 0.6503\n",
      "Epoch 8/100\n",
      "696/696 [==============================] - 68s 98ms/step - loss: 1.2315 - accuracy: 0.6954\n",
      "Epoch 9/100\n",
      "696/696 [==============================] - 68s 97ms/step - loss: 1.0366 - accuracy: 0.7341\n",
      "Epoch 10/100\n",
      "696/696 [==============================] - 67s 96ms/step - loss: 0.8884 - accuracy: 0.7729\n",
      "Epoch 11/100\n",
      "696/696 [==============================] - 66s 95ms/step - loss: 0.7904 - accuracy: 0.7936\n",
      "Epoch 12/100\n",
      "696/696 [==============================] - 67s 97ms/step - loss: 0.7082 - accuracy: 0.8112\n",
      "Epoch 13/100\n",
      "696/696 [==============================] - 68s 98ms/step - loss: 0.6317 - accuracy: 0.8297\n",
      "Epoch 14/100\n",
      "696/696 [==============================] - 69s 99ms/step - loss: 0.5778 - accuracy: 0.8469\n",
      "Epoch 15/100\n",
      "696/696 [==============================] - 67s 96ms/step - loss: 0.5137 - accuracy: 0.8601\n",
      "Epoch 16/100\n",
      "696/696 [==============================] - 67s 96ms/step - loss: 0.4909 - accuracy: 0.8661\n",
      "Epoch 17/100\n",
      "696/696 [==============================] - 70s 100ms/step - loss: 0.4482 - accuracy: 0.8742\n",
      "Epoch 18/100\n",
      "696/696 [==============================] - 68s 98ms/step - loss: 0.4162 - accuracy: 0.8853\n",
      "Epoch 19/100\n",
      "696/696 [==============================] - 70s 101ms/step - loss: 0.3859 - accuracy: 0.8930\n",
      "Epoch 20/100\n",
      "696/696 [==============================] - 68s 98ms/step - loss: 0.3782 - accuracy: 0.8937\n",
      "Epoch 21/100\n",
      "696/696 [==============================] - 67s 96ms/step - loss: 0.3517 - accuracy: 0.9013\n",
      "Epoch 22/100\n",
      "696/696 [==============================] - 67s 96ms/step - loss: 0.3340 - accuracy: 0.9065\n",
      "Epoch 23/100\n",
      "696/696 [==============================] - 67s 96ms/step - loss: 0.3259 - accuracy: 0.9097\n",
      "Epoch 24/100\n",
      "696/696 [==============================] - 68s 98ms/step - loss: 0.2988 - accuracy: 0.9145\n",
      "Epoch 25/100\n",
      "696/696 [==============================] - 67s 96ms/step - loss: 0.2919 - accuracy: 0.9177\n",
      "Epoch 26/100\n",
      "696/696 [==============================] - 68s 97ms/step - loss: 0.2796 - accuracy: 0.9189\n",
      "Epoch 27/100\n",
      "696/696 [==============================] - 69s 99ms/step - loss: 0.2620 - accuracy: 0.9245\n",
      "Epoch 28/100\n",
      "696/696 [==============================] - 68s 97ms/step - loss: 0.2543 - accuracy: 0.9278\n",
      "Epoch 29/100\n",
      "696/696 [==============================] - 66s 96ms/step - loss: 0.2380 - accuracy: 0.9309\n",
      "Epoch 30/100\n",
      "696/696 [==============================] - 67s 97ms/step - loss: 0.2345 - accuracy: 0.9346\n",
      "Epoch 31/100\n",
      "696/696 [==============================] - 67s 96ms/step - loss: 0.2289 - accuracy: 0.9339\n",
      "Epoch 32/100\n",
      "696/696 [==============================] - 66s 95ms/step - loss: 0.2162 - accuracy: 0.9394\n",
      "Epoch 33/100\n",
      "696/696 [==============================] - 67s 96ms/step - loss: 0.2113 - accuracy: 0.9384\n",
      "Epoch 34/100\n",
      "696/696 [==============================] - 67s 96ms/step - loss: 0.2006 - accuracy: 0.9417\n",
      "Epoch 35/100\n",
      "696/696 [==============================] - 69s 98ms/step - loss: 0.2111 - accuracy: 0.9406\n",
      "Epoch 36/100\n",
      "696/696 [==============================] - 66s 95ms/step - loss: 0.1916 - accuracy: 0.9442\n",
      "Epoch 37/100\n",
      "696/696 [==============================] - 66s 95ms/step - loss: 0.1889 - accuracy: 0.9449\n",
      "Epoch 38/100\n",
      "696/696 [==============================] - 64s 92ms/step - loss: 0.1838 - accuracy: 0.9479\n",
      "Epoch 39/100\n",
      "696/696 [==============================] - 55s 80ms/step - loss: 0.1768 - accuracy: 0.9483\n",
      "Epoch 40/100\n",
      "696/696 [==============================] - 52s 74ms/step - loss: 0.1761 - accuracy: 0.9504\n",
      "Epoch 41/100\n",
      "696/696 [==============================] - 60s 86ms/step - loss: 0.1681 - accuracy: 0.9500\n",
      "Epoch 42/100\n",
      "696/696 [==============================] - 61s 88ms/step - loss: 0.1624 - accuracy: 0.9525\n",
      "Epoch 43/100\n",
      "696/696 [==============================] - 58s 83ms/step - loss: 0.1682 - accuracy: 0.9504\n",
      "Epoch 44/100\n",
      "696/696 [==============================] - 58s 84ms/step - loss: 0.1560 - accuracy: 0.9545\n",
      "Epoch 45/100\n",
      "696/696 [==============================] - 59s 85ms/step - loss: 0.1689 - accuracy: 0.9514\n",
      "Epoch 46/100\n",
      "696/696 [==============================] - 62s 89ms/step - loss: 0.1562 - accuracy: 0.9548\n",
      "Epoch 47/100\n",
      "696/696 [==============================] - 57s 82ms/step - loss: 0.1492 - accuracy: 0.9565\n",
      "Epoch 48/100\n",
      "696/696 [==============================] - 57s 82ms/step - loss: 0.1417 - accuracy: 0.9570\n",
      "Epoch 49/100\n",
      "696/696 [==============================] - 56s 81ms/step - loss: 0.1467 - accuracy: 0.9575\n",
      "Epoch 50/100\n",
      "696/696 [==============================] - 55s 79ms/step - loss: 0.1343 - accuracy: 0.9606\n",
      "Epoch 51/100\n",
      "696/696 [==============================] - 56s 80ms/step - loss: 0.1389 - accuracy: 0.9596\n",
      "Epoch 52/100\n",
      "696/696 [==============================] - 55s 79ms/step - loss: 0.1296 - accuracy: 0.9625\n",
      "Epoch 53/100\n",
      "696/696 [==============================] - 55s 79ms/step - loss: 0.1383 - accuracy: 0.9590\n",
      "Epoch 54/100\n",
      "696/696 [==============================] - 55s 79ms/step - loss: 0.1283 - accuracy: 0.9615\n",
      "Epoch 55/100\n",
      "696/696 [==============================] - 55s 79ms/step - loss: 0.1291 - accuracy: 0.9615\n",
      "Epoch 56/100\n",
      "696/696 [==============================] - 55s 79ms/step - loss: 0.1182 - accuracy: 0.9650\n",
      "Epoch 57/100\n",
      "696/696 [==============================] - 55s 79ms/step - loss: 0.1254 - accuracy: 0.9628\n",
      "Epoch 58/100\n",
      "696/696 [==============================] - 55s 79ms/step - loss: 0.1283 - accuracy: 0.9610\n",
      "Epoch 59/100\n",
      "696/696 [==============================] - 53s 76ms/step - loss: 0.1228 - accuracy: 0.9633\n",
      "Epoch 60/100\n",
      "696/696 [==============================] - 53s 76ms/step - loss: 0.1111 - accuracy: 0.9671\n",
      "Epoch 61/100\n",
      "696/696 [==============================] - 53s 76ms/step - loss: 0.1169 - accuracy: 0.9655\n",
      "Epoch 62/100\n",
      "696/696 [==============================] - 53s 76ms/step - loss: 0.0967 - accuracy: 0.9707\n",
      "Epoch 63/100\n",
      "696/696 [==============================] - 53s 76ms/step - loss: 0.1123 - accuracy: 0.9669\n",
      "Epoch 64/100\n",
      "696/696 [==============================] - 53s 76ms/step - loss: 0.1093 - accuracy: 0.9674\n",
      "Epoch 65/100\n",
      "696/696 [==============================] - 53s 76ms/step - loss: 0.1105 - accuracy: 0.9675\n",
      "Epoch 66/100\n",
      "696/696 [==============================] - 53s 77ms/step - loss: 0.1097 - accuracy: 0.9673\n",
      "Epoch 67/100\n",
      "696/696 [==============================] - 53s 77ms/step - loss: 0.1100 - accuracy: 0.9680\n",
      "Epoch 68/100\n",
      "696/696 [==============================] - 53s 77ms/step - loss: 0.1107 - accuracy: 0.9681\n",
      "Epoch 69/100\n",
      "696/696 [==============================] - 53s 77ms/step - loss: 0.1001 - accuracy: 0.9702\n",
      "Epoch 70/100\n",
      "696/696 [==============================] - 53s 76ms/step - loss: 0.0955 - accuracy: 0.9709\n",
      "Epoch 71/100\n",
      "696/696 [==============================] - 53s 76ms/step - loss: 0.1033 - accuracy: 0.9709\n",
      "Epoch 72/100\n",
      "696/696 [==============================] - 54s 78ms/step - loss: 0.1035 - accuracy: 0.9691\n",
      "Epoch 73/100\n",
      "696/696 [==============================] - 55s 79ms/step - loss: 0.0918 - accuracy: 0.9722\n",
      "Epoch 74/100\n",
      "696/696 [==============================] - 54s 78ms/step - loss: 0.0929 - accuracy: 0.9725\n",
      "Epoch 75/100\n",
      "696/696 [==============================] - 55s 79ms/step - loss: 0.0937 - accuracy: 0.9729\n",
      "Epoch 76/100\n",
      "696/696 [==============================] - 54s 78ms/step - loss: 0.0888 - accuracy: 0.9735\n",
      "Epoch 77/100\n",
      "696/696 [==============================] - 55s 78ms/step - loss: 0.0955 - accuracy: 0.9728\n",
      "Epoch 78/100\n",
      "696/696 [==============================] - 54s 78ms/step - loss: 0.0928 - accuracy: 0.9737\n",
      "Epoch 79/100\n",
      "696/696 [==============================] - 55s 78ms/step - loss: 0.0906 - accuracy: 0.9742\n",
      "Epoch 80/100\n",
      "696/696 [==============================] - 55s 78ms/step - loss: 0.0871 - accuracy: 0.9748\n",
      "Epoch 81/100\n",
      "696/696 [==============================] - 54s 78ms/step - loss: 0.0866 - accuracy: 0.9741\n",
      "Epoch 82/100\n",
      "696/696 [==============================] - 55s 79ms/step - loss: 0.0908 - accuracy: 0.9740\n",
      "Epoch 83/100\n",
      "696/696 [==============================] - 54s 78ms/step - loss: 0.0920 - accuracy: 0.9729\n",
      "Epoch 84/100\n",
      "696/696 [==============================] - 53s 75ms/step - loss: 0.0831 - accuracy: 0.9748\n",
      "Epoch 85/100\n",
      "696/696 [==============================] - 53s 76ms/step - loss: 0.0889 - accuracy: 0.9731\n",
      "Epoch 86/100\n",
      "696/696 [==============================] - 53s 76ms/step - loss: 0.0836 - accuracy: 0.9754\n",
      "Epoch 87/100\n",
      "696/696 [==============================] - 53s 76ms/step - loss: 0.0872 - accuracy: 0.9744\n",
      "Epoch 88/100\n",
      "696/696 [==============================] - 53s 77ms/step - loss: 0.0779 - accuracy: 0.9759\n",
      "Epoch 89/100\n",
      "696/696 [==============================] - 53s 76ms/step - loss: 0.0895 - accuracy: 0.9747\n",
      "Epoch 90/100\n",
      "696/696 [==============================] - 53s 76ms/step - loss: 0.0737 - accuracy: 0.9774\n",
      "Epoch 91/100\n",
      "696/696 [==============================] - 53s 76ms/step - loss: 0.0763 - accuracy: 0.9766\n",
      "Epoch 92/100\n",
      "696/696 [==============================] - 53s 77ms/step - loss: 0.0769 - accuracy: 0.9761\n",
      "Epoch 93/100\n",
      "696/696 [==============================] - 53s 76ms/step - loss: 0.0822 - accuracy: 0.9763\n",
      "Epoch 94/100\n",
      "696/696 [==============================] - 53s 77ms/step - loss: 0.0796 - accuracy: 0.9761\n",
      "Epoch 95/100\n",
      "696/696 [==============================] - 53s 77ms/step - loss: 0.0733 - accuracy: 0.9785\n",
      "Epoch 96/100\n",
      "696/696 [==============================] - 53s 76ms/step - loss: 0.0755 - accuracy: 0.9780\n",
      "Epoch 97/100\n",
      "696/696 [==============================] - 52s 75ms/step - loss: 0.0778 - accuracy: 0.9780\n",
      "Epoch 98/100\n",
      "696/696 [==============================] - 51s 74ms/step - loss: 0.0773 - accuracy: 0.9779\n",
      "Epoch 99/100\n",
      "696/696 [==============================] - 52s 75ms/step - loss: 0.0787 - accuracy: 0.9771\n",
      "Epoch 100/100\n",
      "696/696 [==============================] - 53s 76ms/step - loss: 0.0774 - accuracy: 0.9764\n"
     ]
    },
    {
     "data": {
      "text/plain": [
       "<keras.src.callbacks.History at 0x1c944200e50>"
      ]
     },
     "execution_count": 25,
     "metadata": {},
     "output_type": "execute_result"
    }
   ],
   "source": [
    "model.fit(training_set, epochs=100)"
   ]
  },
  {
   "cell_type": "markdown",
   "id": "c533f745",
   "metadata": {
    "id": "c533f745"
   },
   "source": [
    "### Evaluate on unseen data"
   ]
  },
  {
   "cell_type": "code",
   "execution_count": 26,
   "id": "f34ceeb8",
   "metadata": {
    "colab": {
     "base_uri": "https://localhost:8080/"
    },
    "id": "f34ceeb8",
    "outputId": "d38c08d3-cd13-4e67-8547-438f2fb093e5"
   },
   "outputs": [
    {
     "name": "stdout",
     "output_type": "stream",
     "text": [
      "189/189 [==============================] - 40s 211ms/step - loss: 1.3656 - accuracy: 0.8401\n"
     ]
    },
    {
     "data": {
      "text/plain": [
       "[1.3655879497528076, 0.8400863409042358]"
      ]
     },
     "execution_count": 26,
     "metadata": {},
     "output_type": "execute_result"
    }
   ],
   "source": [
    "model.evaluate(test_set)"
   ]
  },
  {
   "cell_type": "markdown",
   "id": "5c77be26",
   "metadata": {},
   "source": [
    "### Transfer Learning"
   ]
  },
  {
   "cell_type": "code",
   "execution_count": 47,
   "id": "7a3b3f1b",
   "metadata": {
    "scrolled": true
   },
   "outputs": [
    {
     "name": "stdout",
     "output_type": "stream",
     "text": [
      "Model: \"sequential_22\"\n",
      "_________________________________________________________________\n",
      " Layer (type)                Output Shape              Param #   \n",
      "=================================================================\n",
      " densenet121 (Functional)    (None, 2, 2, 1024)        7037504   \n",
      "                                                                 \n",
      " global_average_pooling2d_1  (None, 1024)              0         \n",
      " 0 (GlobalAveragePooling2D)                                      \n",
      "                                                                 \n",
      " dense_38 (Dense)            (None, 512)               524800    \n",
      "                                                                 \n",
      " dense_39 (Dense)            (None, 513)               263169    \n",
      "                                                                 \n",
      "=================================================================\n",
      "Total params: 7825473 (29.85 MB)\n",
      "Trainable params: 787969 (3.01 MB)\n",
      "Non-trainable params: 7037504 (26.85 MB)\n",
      "_________________________________________________________________\n"
     ]
    },
    {
     "name": "stderr",
     "output_type": "stream",
     "text": [
      "WARNING:absl:`lr` is deprecated in Keras optimizer, please use `learning_rate` or use the legacy optimizer, e.g.,tf.keras.optimizers.legacy.Adam.\n"
     ]
    },
    {
     "name": "stdout",
     "output_type": "stream",
     "text": [
      "Found 22258 images belonging to 513 classes.\n",
      "Found 6022 images belonging to 513 classes.\n",
      "Epoch 1/50\n",
      "696/696 [==============================] - 212s 299ms/step - loss: 5.8228 - accuracy: 0.0136 - val_loss: 5.1764 - val_accuracy: 0.0382\n",
      "Epoch 2/50\n",
      "696/696 [==============================] - 215s 309ms/step - loss: 5.0143 - accuracy: 0.0466 - val_loss: 4.6737 - val_accuracy: 0.0676\n",
      "Epoch 3/50\n",
      "696/696 [==============================] - 216s 310ms/step - loss: 4.6934 - accuracy: 0.0731 - val_loss: 4.4597 - val_accuracy: 0.0844\n",
      "Epoch 4/50\n",
      "669/696 [===========================>..] - ETA: 6s - loss: 4.4916 - accuracy: 0.0868"
     ]
    },
    {
     "ename": "KeyboardInterrupt",
     "evalue": "",
     "output_type": "error",
     "traceback": [
      "\u001b[1;31m---------------------------------------------------------------------------\u001b[0m",
      "\u001b[1;31mKeyboardInterrupt\u001b[0m                         Traceback (most recent call last)",
      "Cell \u001b[1;32mIn[47], line 66\u001b[0m\n\u001b[0;32m     59\u001b[0m test_set \u001b[38;5;241m=\u001b[39m test_datagen\u001b[38;5;241m.\u001b[39mflow_from_directory(\n\u001b[0;32m     60\u001b[0m     \u001b[38;5;124mr\u001b[39m\u001b[38;5;124m\"\u001b[39m\u001b[38;5;124mC:\u001b[39m\u001b[38;5;124m\\\u001b[39m\u001b[38;5;124mUsers\u001b[39m\u001b[38;5;124m\\\u001b[39m\u001b[38;5;124msndes\u001b[39m\u001b[38;5;124m\\\u001b[39m\u001b[38;5;124mJupyterProjects\u001b[39m\u001b[38;5;124m\\\u001b[39m\u001b[38;5;124mFinalProject\u001b[39m\u001b[38;5;124m\\\u001b[39m\u001b[38;5;124mFin_DS\u001b[39m\u001b[38;5;124m\\\u001b[39m\u001b[38;5;124mval\u001b[39m\u001b[38;5;124m\"\u001b[39m,\n\u001b[0;32m     61\u001b[0m     target_size\u001b[38;5;241m=\u001b[39m(\u001b[38;5;241m64\u001b[39m, \u001b[38;5;241m64\u001b[39m),\n\u001b[0;32m     62\u001b[0m     batch_size\u001b[38;5;241m=\u001b[39mbatch_size,\n\u001b[0;32m     63\u001b[0m     class_mode\u001b[38;5;241m=\u001b[39m\u001b[38;5;124m'\u001b[39m\u001b[38;5;124mcategorical\u001b[39m\u001b[38;5;124m'\u001b[39m)\n\u001b[0;32m     65\u001b[0m \u001b[38;5;66;03m# Train the model\u001b[39;00m\n\u001b[1;32m---> 66\u001b[0m model\u001b[38;5;241m.\u001b[39mfit(training_set, epochs\u001b[38;5;241m=\u001b[39m\u001b[38;5;241m50\u001b[39m, validation_data\u001b[38;5;241m=\u001b[39mtest_set)\n\u001b[0;32m     68\u001b[0m \u001b[38;5;66;03m# Evaluate on unseen data\u001b[39;00m\n\u001b[0;32m     69\u001b[0m model\u001b[38;5;241m.\u001b[39mevaluate(test_set)\n",
      "File \u001b[1;32m~\\anaconda3\\Lib\\site-packages\\keras\\src\\utils\\traceback_utils.py:65\u001b[0m, in \u001b[0;36mfilter_traceback.<locals>.error_handler\u001b[1;34m(*args, **kwargs)\u001b[0m\n\u001b[0;32m     63\u001b[0m filtered_tb \u001b[38;5;241m=\u001b[39m \u001b[38;5;28;01mNone\u001b[39;00m\n\u001b[0;32m     64\u001b[0m \u001b[38;5;28;01mtry\u001b[39;00m:\n\u001b[1;32m---> 65\u001b[0m     \u001b[38;5;28;01mreturn\u001b[39;00m fn(\u001b[38;5;241m*\u001b[39margs, \u001b[38;5;241m*\u001b[39m\u001b[38;5;241m*\u001b[39mkwargs)\n\u001b[0;32m     66\u001b[0m \u001b[38;5;28;01mexcept\u001b[39;00m \u001b[38;5;167;01mException\u001b[39;00m \u001b[38;5;28;01mas\u001b[39;00m e:\n\u001b[0;32m     67\u001b[0m     filtered_tb \u001b[38;5;241m=\u001b[39m _process_traceback_frames(e\u001b[38;5;241m.\u001b[39m__traceback__)\n",
      "File \u001b[1;32m~\\anaconda3\\Lib\\site-packages\\keras\\src\\engine\\training.py:1783\u001b[0m, in \u001b[0;36mModel.fit\u001b[1;34m(self, x, y, batch_size, epochs, verbose, callbacks, validation_split, validation_data, shuffle, class_weight, sample_weight, initial_epoch, steps_per_epoch, validation_steps, validation_batch_size, validation_freq, max_queue_size, workers, use_multiprocessing)\u001b[0m\n\u001b[0;32m   1775\u001b[0m \u001b[38;5;28;01mwith\u001b[39;00m tf\u001b[38;5;241m.\u001b[39mprofiler\u001b[38;5;241m.\u001b[39mexperimental\u001b[38;5;241m.\u001b[39mTrace(\n\u001b[0;32m   1776\u001b[0m     \u001b[38;5;124m\"\u001b[39m\u001b[38;5;124mtrain\u001b[39m\u001b[38;5;124m\"\u001b[39m,\n\u001b[0;32m   1777\u001b[0m     epoch_num\u001b[38;5;241m=\u001b[39mepoch,\n\u001b[1;32m   (...)\u001b[0m\n\u001b[0;32m   1780\u001b[0m     _r\u001b[38;5;241m=\u001b[39m\u001b[38;5;241m1\u001b[39m,\n\u001b[0;32m   1781\u001b[0m ):\n\u001b[0;32m   1782\u001b[0m     callbacks\u001b[38;5;241m.\u001b[39mon_train_batch_begin(step)\n\u001b[1;32m-> 1783\u001b[0m     tmp_logs \u001b[38;5;241m=\u001b[39m \u001b[38;5;28mself\u001b[39m\u001b[38;5;241m.\u001b[39mtrain_function(iterator)\n\u001b[0;32m   1784\u001b[0m     \u001b[38;5;28;01mif\u001b[39;00m data_handler\u001b[38;5;241m.\u001b[39mshould_sync:\n\u001b[0;32m   1785\u001b[0m         context\u001b[38;5;241m.\u001b[39masync_wait()\n",
      "File \u001b[1;32m~\\anaconda3\\Lib\\site-packages\\tensorflow\\python\\util\\traceback_utils.py:150\u001b[0m, in \u001b[0;36mfilter_traceback.<locals>.error_handler\u001b[1;34m(*args, **kwargs)\u001b[0m\n\u001b[0;32m    148\u001b[0m filtered_tb \u001b[38;5;241m=\u001b[39m \u001b[38;5;28;01mNone\u001b[39;00m\n\u001b[0;32m    149\u001b[0m \u001b[38;5;28;01mtry\u001b[39;00m:\n\u001b[1;32m--> 150\u001b[0m   \u001b[38;5;28;01mreturn\u001b[39;00m fn(\u001b[38;5;241m*\u001b[39margs, \u001b[38;5;241m*\u001b[39m\u001b[38;5;241m*\u001b[39mkwargs)\n\u001b[0;32m    151\u001b[0m \u001b[38;5;28;01mexcept\u001b[39;00m \u001b[38;5;167;01mException\u001b[39;00m \u001b[38;5;28;01mas\u001b[39;00m e:\n\u001b[0;32m    152\u001b[0m   filtered_tb \u001b[38;5;241m=\u001b[39m _process_traceback_frames(e\u001b[38;5;241m.\u001b[39m__traceback__)\n",
      "File \u001b[1;32m~\\anaconda3\\Lib\\site-packages\\tensorflow\\python\\eager\\polymorphic_function\\polymorphic_function.py:831\u001b[0m, in \u001b[0;36mFunction.__call__\u001b[1;34m(self, *args, **kwds)\u001b[0m\n\u001b[0;32m    828\u001b[0m compiler \u001b[38;5;241m=\u001b[39m \u001b[38;5;124m\"\u001b[39m\u001b[38;5;124mxla\u001b[39m\u001b[38;5;124m\"\u001b[39m \u001b[38;5;28;01mif\u001b[39;00m \u001b[38;5;28mself\u001b[39m\u001b[38;5;241m.\u001b[39m_jit_compile \u001b[38;5;28;01melse\u001b[39;00m \u001b[38;5;124m\"\u001b[39m\u001b[38;5;124mnonXla\u001b[39m\u001b[38;5;124m\"\u001b[39m\n\u001b[0;32m    830\u001b[0m \u001b[38;5;28;01mwith\u001b[39;00m OptionalXlaContext(\u001b[38;5;28mself\u001b[39m\u001b[38;5;241m.\u001b[39m_jit_compile):\n\u001b[1;32m--> 831\u001b[0m   result \u001b[38;5;241m=\u001b[39m \u001b[38;5;28mself\u001b[39m\u001b[38;5;241m.\u001b[39m_call(\u001b[38;5;241m*\u001b[39margs, \u001b[38;5;241m*\u001b[39m\u001b[38;5;241m*\u001b[39mkwds)\n\u001b[0;32m    833\u001b[0m new_tracing_count \u001b[38;5;241m=\u001b[39m \u001b[38;5;28mself\u001b[39m\u001b[38;5;241m.\u001b[39mexperimental_get_tracing_count()\n\u001b[0;32m    834\u001b[0m without_tracing \u001b[38;5;241m=\u001b[39m (tracing_count \u001b[38;5;241m==\u001b[39m new_tracing_count)\n",
      "File \u001b[1;32m~\\anaconda3\\Lib\\site-packages\\tensorflow\\python\\eager\\polymorphic_function\\polymorphic_function.py:867\u001b[0m, in \u001b[0;36mFunction._call\u001b[1;34m(self, *args, **kwds)\u001b[0m\n\u001b[0;32m    864\u001b[0m   \u001b[38;5;28mself\u001b[39m\u001b[38;5;241m.\u001b[39m_lock\u001b[38;5;241m.\u001b[39mrelease()\n\u001b[0;32m    865\u001b[0m   \u001b[38;5;66;03m# In this case we have created variables on the first call, so we run the\u001b[39;00m\n\u001b[0;32m    866\u001b[0m   \u001b[38;5;66;03m# defunned version which is guaranteed to never create variables.\u001b[39;00m\n\u001b[1;32m--> 867\u001b[0m   \u001b[38;5;28;01mreturn\u001b[39;00m tracing_compilation\u001b[38;5;241m.\u001b[39mcall_function(\n\u001b[0;32m    868\u001b[0m       args, kwds, \u001b[38;5;28mself\u001b[39m\u001b[38;5;241m.\u001b[39m_no_variable_creation_config\n\u001b[0;32m    869\u001b[0m   )\n\u001b[0;32m    870\u001b[0m \u001b[38;5;28;01melif\u001b[39;00m \u001b[38;5;28mself\u001b[39m\u001b[38;5;241m.\u001b[39m_variable_creation_config \u001b[38;5;129;01mis\u001b[39;00m \u001b[38;5;129;01mnot\u001b[39;00m \u001b[38;5;28;01mNone\u001b[39;00m:\n\u001b[0;32m    871\u001b[0m   \u001b[38;5;66;03m# Release the lock early so that multiple threads can perform the call\u001b[39;00m\n\u001b[0;32m    872\u001b[0m   \u001b[38;5;66;03m# in parallel.\u001b[39;00m\n\u001b[0;32m    873\u001b[0m   \u001b[38;5;28mself\u001b[39m\u001b[38;5;241m.\u001b[39m_lock\u001b[38;5;241m.\u001b[39mrelease()\n",
      "File \u001b[1;32m~\\anaconda3\\Lib\\site-packages\\tensorflow\\python\\eager\\polymorphic_function\\tracing_compilation.py:139\u001b[0m, in \u001b[0;36mcall_function\u001b[1;34m(args, kwargs, tracing_options)\u001b[0m\n\u001b[0;32m    137\u001b[0m bound_args \u001b[38;5;241m=\u001b[39m function\u001b[38;5;241m.\u001b[39mfunction_type\u001b[38;5;241m.\u001b[39mbind(\u001b[38;5;241m*\u001b[39margs, \u001b[38;5;241m*\u001b[39m\u001b[38;5;241m*\u001b[39mkwargs)\n\u001b[0;32m    138\u001b[0m flat_inputs \u001b[38;5;241m=\u001b[39m function\u001b[38;5;241m.\u001b[39mfunction_type\u001b[38;5;241m.\u001b[39munpack_inputs(bound_args)\n\u001b[1;32m--> 139\u001b[0m \u001b[38;5;28;01mreturn\u001b[39;00m function\u001b[38;5;241m.\u001b[39m_call_flat(  \u001b[38;5;66;03m# pylint: disable=protected-access\u001b[39;00m\n\u001b[0;32m    140\u001b[0m     flat_inputs, captured_inputs\u001b[38;5;241m=\u001b[39mfunction\u001b[38;5;241m.\u001b[39mcaptured_inputs\n\u001b[0;32m    141\u001b[0m )\n",
      "File \u001b[1;32m~\\anaconda3\\Lib\\site-packages\\tensorflow\\python\\eager\\polymorphic_function\\concrete_function.py:1264\u001b[0m, in \u001b[0;36mConcreteFunction._call_flat\u001b[1;34m(self, tensor_inputs, captured_inputs)\u001b[0m\n\u001b[0;32m   1260\u001b[0m possible_gradient_type \u001b[38;5;241m=\u001b[39m gradients_util\u001b[38;5;241m.\u001b[39mPossibleTapeGradientTypes(args)\n\u001b[0;32m   1261\u001b[0m \u001b[38;5;28;01mif\u001b[39;00m (possible_gradient_type \u001b[38;5;241m==\u001b[39m gradients_util\u001b[38;5;241m.\u001b[39mPOSSIBLE_GRADIENT_TYPES_NONE\n\u001b[0;32m   1262\u001b[0m     \u001b[38;5;129;01mand\u001b[39;00m executing_eagerly):\n\u001b[0;32m   1263\u001b[0m   \u001b[38;5;66;03m# No tape is watching; skip to running the function.\u001b[39;00m\n\u001b[1;32m-> 1264\u001b[0m   \u001b[38;5;28;01mreturn\u001b[39;00m \u001b[38;5;28mself\u001b[39m\u001b[38;5;241m.\u001b[39m_inference_function\u001b[38;5;241m.\u001b[39mflat_call(args)\n\u001b[0;32m   1265\u001b[0m forward_backward \u001b[38;5;241m=\u001b[39m \u001b[38;5;28mself\u001b[39m\u001b[38;5;241m.\u001b[39m_select_forward_and_backward_functions(\n\u001b[0;32m   1266\u001b[0m     args,\n\u001b[0;32m   1267\u001b[0m     possible_gradient_type,\n\u001b[0;32m   1268\u001b[0m     executing_eagerly)\n\u001b[0;32m   1269\u001b[0m forward_function, args_with_tangents \u001b[38;5;241m=\u001b[39m forward_backward\u001b[38;5;241m.\u001b[39mforward()\n",
      "File \u001b[1;32m~\\anaconda3\\Lib\\site-packages\\tensorflow\\python\\eager\\polymorphic_function\\atomic_function.py:217\u001b[0m, in \u001b[0;36mAtomicFunction.flat_call\u001b[1;34m(self, args)\u001b[0m\n\u001b[0;32m    215\u001b[0m \u001b[38;5;28;01mdef\u001b[39;00m \u001b[38;5;21mflat_call\u001b[39m(\u001b[38;5;28mself\u001b[39m, args: Sequence[core\u001b[38;5;241m.\u001b[39mTensor]) \u001b[38;5;241m-\u001b[39m\u001b[38;5;241m>\u001b[39m Any:\n\u001b[0;32m    216\u001b[0m \u001b[38;5;250m  \u001b[39m\u001b[38;5;124;03m\"\"\"Calls with tensor inputs and returns the structured output.\"\"\"\u001b[39;00m\n\u001b[1;32m--> 217\u001b[0m   flat_outputs \u001b[38;5;241m=\u001b[39m \u001b[38;5;28mself\u001b[39m(\u001b[38;5;241m*\u001b[39margs)\n\u001b[0;32m    218\u001b[0m   \u001b[38;5;28;01mreturn\u001b[39;00m \u001b[38;5;28mself\u001b[39m\u001b[38;5;241m.\u001b[39mfunction_type\u001b[38;5;241m.\u001b[39mpack_output(flat_outputs)\n",
      "File \u001b[1;32m~\\anaconda3\\Lib\\site-packages\\tensorflow\\python\\eager\\polymorphic_function\\atomic_function.py:252\u001b[0m, in \u001b[0;36mAtomicFunction.__call__\u001b[1;34m(self, *args)\u001b[0m\n\u001b[0;32m    250\u001b[0m \u001b[38;5;28;01mwith\u001b[39;00m record\u001b[38;5;241m.\u001b[39mstop_recording():\n\u001b[0;32m    251\u001b[0m   \u001b[38;5;28;01mif\u001b[39;00m \u001b[38;5;28mself\u001b[39m\u001b[38;5;241m.\u001b[39m_bound_context\u001b[38;5;241m.\u001b[39mexecuting_eagerly():\n\u001b[1;32m--> 252\u001b[0m     outputs \u001b[38;5;241m=\u001b[39m \u001b[38;5;28mself\u001b[39m\u001b[38;5;241m.\u001b[39m_bound_context\u001b[38;5;241m.\u001b[39mcall_function(\n\u001b[0;32m    253\u001b[0m         \u001b[38;5;28mself\u001b[39m\u001b[38;5;241m.\u001b[39mname,\n\u001b[0;32m    254\u001b[0m         \u001b[38;5;28mlist\u001b[39m(args),\n\u001b[0;32m    255\u001b[0m         \u001b[38;5;28mlen\u001b[39m(\u001b[38;5;28mself\u001b[39m\u001b[38;5;241m.\u001b[39mfunction_type\u001b[38;5;241m.\u001b[39mflat_outputs),\n\u001b[0;32m    256\u001b[0m     )\n\u001b[0;32m    257\u001b[0m   \u001b[38;5;28;01melse\u001b[39;00m:\n\u001b[0;32m    258\u001b[0m     outputs \u001b[38;5;241m=\u001b[39m make_call_op_in_graph(\n\u001b[0;32m    259\u001b[0m         \u001b[38;5;28mself\u001b[39m,\n\u001b[0;32m    260\u001b[0m         \u001b[38;5;28mlist\u001b[39m(args),\n\u001b[0;32m    261\u001b[0m         \u001b[38;5;28mself\u001b[39m\u001b[38;5;241m.\u001b[39m_bound_context\u001b[38;5;241m.\u001b[39mfunction_call_options\u001b[38;5;241m.\u001b[39mas_attrs(),\n\u001b[0;32m    262\u001b[0m     )\n",
      "File \u001b[1;32m~\\anaconda3\\Lib\\site-packages\\tensorflow\\python\\eager\\context.py:1479\u001b[0m, in \u001b[0;36mContext.call_function\u001b[1;34m(self, name, tensor_inputs, num_outputs)\u001b[0m\n\u001b[0;32m   1477\u001b[0m cancellation_context \u001b[38;5;241m=\u001b[39m cancellation\u001b[38;5;241m.\u001b[39mcontext()\n\u001b[0;32m   1478\u001b[0m \u001b[38;5;28;01mif\u001b[39;00m cancellation_context \u001b[38;5;129;01mis\u001b[39;00m \u001b[38;5;28;01mNone\u001b[39;00m:\n\u001b[1;32m-> 1479\u001b[0m   outputs \u001b[38;5;241m=\u001b[39m execute\u001b[38;5;241m.\u001b[39mexecute(\n\u001b[0;32m   1480\u001b[0m       name\u001b[38;5;241m.\u001b[39mdecode(\u001b[38;5;124m\"\u001b[39m\u001b[38;5;124mutf-8\u001b[39m\u001b[38;5;124m\"\u001b[39m),\n\u001b[0;32m   1481\u001b[0m       num_outputs\u001b[38;5;241m=\u001b[39mnum_outputs,\n\u001b[0;32m   1482\u001b[0m       inputs\u001b[38;5;241m=\u001b[39mtensor_inputs,\n\u001b[0;32m   1483\u001b[0m       attrs\u001b[38;5;241m=\u001b[39mattrs,\n\u001b[0;32m   1484\u001b[0m       ctx\u001b[38;5;241m=\u001b[39m\u001b[38;5;28mself\u001b[39m,\n\u001b[0;32m   1485\u001b[0m   )\n\u001b[0;32m   1486\u001b[0m \u001b[38;5;28;01melse\u001b[39;00m:\n\u001b[0;32m   1487\u001b[0m   outputs \u001b[38;5;241m=\u001b[39m execute\u001b[38;5;241m.\u001b[39mexecute_with_cancellation(\n\u001b[0;32m   1488\u001b[0m       name\u001b[38;5;241m.\u001b[39mdecode(\u001b[38;5;124m\"\u001b[39m\u001b[38;5;124mutf-8\u001b[39m\u001b[38;5;124m\"\u001b[39m),\n\u001b[0;32m   1489\u001b[0m       num_outputs\u001b[38;5;241m=\u001b[39mnum_outputs,\n\u001b[1;32m   (...)\u001b[0m\n\u001b[0;32m   1493\u001b[0m       cancellation_manager\u001b[38;5;241m=\u001b[39mcancellation_context,\n\u001b[0;32m   1494\u001b[0m   )\n",
      "File \u001b[1;32m~\\anaconda3\\Lib\\site-packages\\tensorflow\\python\\eager\\execute.py:60\u001b[0m, in \u001b[0;36mquick_execute\u001b[1;34m(op_name, num_outputs, inputs, attrs, ctx, name)\u001b[0m\n\u001b[0;32m     53\u001b[0m   \u001b[38;5;66;03m# Convert any objects of type core_types.Tensor to Tensor.\u001b[39;00m\n\u001b[0;32m     54\u001b[0m   inputs \u001b[38;5;241m=\u001b[39m [\n\u001b[0;32m     55\u001b[0m       tensor_conversion_registry\u001b[38;5;241m.\u001b[39mconvert(t)\n\u001b[0;32m     56\u001b[0m       \u001b[38;5;28;01mif\u001b[39;00m \u001b[38;5;28misinstance\u001b[39m(t, core_types\u001b[38;5;241m.\u001b[39mTensor)\n\u001b[0;32m     57\u001b[0m       \u001b[38;5;28;01melse\u001b[39;00m t\n\u001b[0;32m     58\u001b[0m       \u001b[38;5;28;01mfor\u001b[39;00m t \u001b[38;5;129;01min\u001b[39;00m inputs\n\u001b[0;32m     59\u001b[0m   ]\n\u001b[1;32m---> 60\u001b[0m   tensors \u001b[38;5;241m=\u001b[39m pywrap_tfe\u001b[38;5;241m.\u001b[39mTFE_Py_Execute(ctx\u001b[38;5;241m.\u001b[39m_handle, device_name, op_name,\n\u001b[0;32m     61\u001b[0m                                       inputs, attrs, num_outputs)\n\u001b[0;32m     62\u001b[0m \u001b[38;5;28;01mexcept\u001b[39;00m core\u001b[38;5;241m.\u001b[39m_NotOkStatusException \u001b[38;5;28;01mas\u001b[39;00m e:\n\u001b[0;32m     63\u001b[0m   \u001b[38;5;28;01mif\u001b[39;00m name \u001b[38;5;129;01mis\u001b[39;00m \u001b[38;5;129;01mnot\u001b[39;00m \u001b[38;5;28;01mNone\u001b[39;00m:\n",
      "\u001b[1;31mKeyboardInterrupt\u001b[0m: "
     ]
    }
   ],
   "source": [
    "from keras.applications import DenseNet121\n",
    "from keras.models import Sequential\n",
    "from keras.layers import Dense, GlobalAveragePooling2D\n",
    "from keras.optimizers import Adam\n",
    "from keras.preprocessing.image import ImageDataGenerator\n",
    "\n",
    "# Create a DenseNet121 base model\n",
    "base_model = DenseNet121(weights='imagenet', include_top=False, input_shape=(64, 64, 3))\n",
    "\n",
    "# Freeze the layers of the pre-trained model\n",
    "for layer in base_model.layers:\n",
    "    layer.trainable = False\n",
    "\n",
    "# Create a new model\n",
    "model = Sequential()\n",
    "\n",
    "# Add the pre-trained DenseNet121 model\n",
    "model.add(base_model)\n",
    "\n",
    "# Add Global Average Pooling 2D layer\n",
    "model.add(GlobalAveragePooling2D())\n",
    "\n",
    "# Add your own classifier on top\n",
    "model.add(Dense(512, activation='relu'))\n",
    "model.add(Dense(513, activation='softmax'))\n",
    "\n",
    "# Summary of the model\n",
    "model.summary()\n",
    "\n",
    "# Compile the model\n",
    "model.compile(loss='categorical_crossentropy',\n",
    "              optimizer=Adam(lr=0.0001),\n",
    "              metrics=['accuracy'])\n",
    "\n",
    "# Use data augmentation for training\n",
    "train_datagen = ImageDataGenerator(\n",
    "    rescale=1/255,\n",
    "    shear_range=0.2,\n",
    "    zoom_range=0.2,\n",
    "    horizontal_flip=True,\n",
    "    rotation_range=20,\n",
    "    width_shift_range=0.2,\n",
    "    height_shift_range=0.2)\n",
    "\n",
    "# No data augmentation for validation/test\n",
    "test_datagen = ImageDataGenerator(rescale=1/255)\n",
    "\n",
    "# Set the batch size\n",
    "batch_size = 32\n",
    "\n",
    "# Load and augment the training data\n",
    "training_set = train_datagen.flow_from_directory(\n",
    "    r\"C:\\Users\\sndes\\JupyterProjects\\FinalProject\\Fin_DS\\train\",\n",
    "    target_size=(64, 64),\n",
    "    batch_size=batch_size,\n",
    "    class_mode='categorical')\n",
    "\n",
    "# Load the validation data\n",
    "test_set = test_datagen.flow_from_directory(\n",
    "    r\"C:\\Users\\sndes\\JupyterProjects\\FinalProject\\Fin_DS\\val\",\n",
    "    target_size=(64, 64),\n",
    "    batch_size=batch_size,\n",
    "    class_mode='categorical')\n",
    "\n",
    "# Train the model\n",
    "model.fit(training_set, epochs=50, validation_data=test_set)\n",
    "\n",
    "# Evaluate on unseen data\n",
    "model.evaluate(test_set)\n"
   ]
  },
  {
   "cell_type": "code",
   "execution_count": 43,
   "id": "c0b0dca6",
   "metadata": {},
   "outputs": [],
   "source": [
    "# Load the ResNet152V2 model pre-trained on ImageNet data\n",
    "base_model = ResNet152V2(weights='imagenet', include_top=False, input_shape=(64, 64, 3))\n",
    "\n",
    "# Freeze the convolutional layers of the ResNet152V2 model\n",
    "for layer in base_model.layers:\n",
    "    layer.trainable = False"
   ]
  },
  {
   "cell_type": "code",
   "execution_count": 4,
   "id": "71187074",
   "metadata": {},
   "outputs": [],
   "source": [
    "model = Sequential()\n",
    "\n",
    "# Add the ResNet152V2 base model\n",
    "model.add(base_model)\n",
    "\n",
    "# Add your own layers on top of the ResNet152V2 model with 'SAME' padding\n",
    "model.add(Conv2D(32, kernel_size=(3, 3), activation='relu', padding='same'))\n",
    "model.add(MaxPool2D(pool_size=(2, 2), padding='same'))\n",
    "\n",
    "model.add(Conv2D(32, kernel_size=(3, 3), activation='relu', padding='same'))\n",
    "model.add(MaxPool2D(pool_size=(2, 2), padding='same'))\n",
    "\n",
    "model.add(Flatten())\n",
    "\n",
    "model.add(Dense(512, activation='relu'))\n",
    "model.add(Dense(513, activation='softmax'))"
   ]
  },
  {
   "cell_type": "code",
   "execution_count": 5,
   "id": "2bbbabd6",
   "metadata": {},
   "outputs": [
    {
     "name": "stdout",
     "output_type": "stream",
     "text": [
      "Model: \"sequential\"\n",
      "_________________________________________________________________\n",
      " Layer (type)                Output Shape              Param #   \n",
      "=================================================================\n",
      " resnet152v2 (Functional)    (None, 2, 2, 2048)        58331648  \n",
      "                                                                 \n",
      " conv2d (Conv2D)             (None, 2, 2, 32)          589856    \n",
      "                                                                 \n",
      " max_pooling2d_3 (MaxPoolin  (None, 1, 1, 32)          0         \n",
      " g2D)                                                            \n",
      "                                                                 \n",
      " conv2d_1 (Conv2D)           (None, 1, 1, 32)          9248      \n",
      "                                                                 \n",
      " max_pooling2d_4 (MaxPoolin  (None, 1, 1, 32)          0         \n",
      " g2D)                                                            \n",
      "                                                                 \n",
      " flatten (Flatten)           (None, 32)                0         \n",
      "                                                                 \n",
      " dense (Dense)               (None, 512)               16896     \n",
      "                                                                 \n",
      " dense_1 (Dense)             (None, 513)               263169    \n",
      "                                                                 \n",
      "=================================================================\n",
      "Total params: 59210817 (225.87 MB)\n",
      "Trainable params: 879169 (3.35 MB)\n",
      "Non-trainable params: 58331648 (222.52 MB)\n",
      "_________________________________________________________________\n"
     ]
    }
   ],
   "source": [
    "model.summary()"
   ]
  },
  {
   "cell_type": "code",
   "execution_count": 6,
   "id": "dfee54ff",
   "metadata": {},
   "outputs": [],
   "source": [
    "# Compile the model\n",
    "model.compile(loss='categorical_crossentropy', optimizer='adam', metrics=['accuracy'])"
   ]
  },
  {
   "cell_type": "code",
   "execution_count": 7,
   "id": "1366db84",
   "metadata": {},
   "outputs": [],
   "source": [
    "# Create ImageDataGenerators\n",
    "train_datagen = ImageDataGenerator(rescale=1/255, shear_range=0.2, zoom_range=0.2, horizontal_flip=True)\n",
    "test_datagen = ImageDataGenerator(rescale=1/255, shear_range=0.2, zoom_range=0.2, horizontal_flip=True)"
   ]
  },
  {
   "cell_type": "code",
   "execution_count": 14,
   "id": "18367bba",
   "metadata": {},
   "outputs": [
    {
     "name": "stdout",
     "output_type": "stream",
     "text": [
      "Found 22258 images belonging to 513 classes.\n"
     ]
    }
   ],
   "source": [
    "# Load and preprocess the data using ImageDataGenerators\n",
    "training_set = train_datagen.flow_from_directory(\n",
    "    r\"C:\\Users\\sndes\\JupyterProjects\\FinalProject\\Fin_DS\\train\",\n",
    "    target_size=(64, 64),\n",
    "    class_mode='categorical'\n",
    ")"
   ]
  },
  {
   "cell_type": "code",
   "execution_count": 15,
   "id": "2a08a4d7",
   "metadata": {},
   "outputs": [
    {
     "name": "stdout",
     "output_type": "stream",
     "text": [
      "Found 6022 images belonging to 513 classes.\n"
     ]
    }
   ],
   "source": [
    "test_set = test_datagen.flow_from_directory(\n",
    "    r\"C:\\Users\\sndes\\JupyterProjects\\FinalProject\\Fin_DS\\val\",\n",
    "    target_size=(64, 64),\n",
    "    class_mode='categorical'\n",
    ")"
   ]
  },
  {
   "cell_type": "code",
   "execution_count": 12,
   "id": "37ccab9c",
   "metadata": {},
   "outputs": [
    {
     "name": "stdout",
     "output_type": "stream",
     "text": [
      "Epoch 1/5\n",
      "696/696 [==============================] - 263s 378ms/step - loss: 2.4362 - accuracy: 0.3997\n",
      "Epoch 2/5\n",
      "696/696 [==============================] - 272s 390ms/step - loss: 2.4012 - accuracy: 0.4059\n",
      "Epoch 3/5\n",
      "696/696 [==============================] - 272s 391ms/step - loss: 2.4107 - accuracy: 0.4028\n",
      "Epoch 4/5\n",
      "696/696 [==============================] - 279s 401ms/step - loss: 2.3884 - accuracy: 0.4100\n",
      "Epoch 5/5\n",
      "696/696 [==============================] - 275s 394ms/step - loss: 2.3834 - accuracy: 0.4104\n"
     ]
    },
    {
     "data": {
      "text/plain": [
       "<keras.src.callbacks.History at 0x1be0aff2110>"
      ]
     },
     "execution_count": 12,
     "metadata": {},
     "output_type": "execute_result"
    }
   ],
   "source": [
    "# Train the model\n",
    "model.fit(training_set, epochs=5)"
   ]
  },
  {
   "cell_type": "code",
   "execution_count": 13,
   "id": "01d3db9d",
   "metadata": {
    "scrolled": true
   },
   "outputs": [
    {
     "name": "stdout",
     "output_type": "stream",
     "text": [
      "189/189 [==============================] - 66s 349ms/step - loss: 2.7719 - accuracy: 0.3404\n"
     ]
    },
    {
     "data": {
      "text/plain": [
       "[2.7718911170959473, 0.3404184579849243]"
      ]
     },
     "execution_count": 13,
     "metadata": {},
     "output_type": "execute_result"
    }
   ],
   "source": [
    "model.evaluate(test_set)"
   ]
  },
  {
   "cell_type": "code",
   "execution_count": null,
   "id": "8007a29a",
   "metadata": {},
   "outputs": [],
   "source": [
    "# Load and preprocess a test image\n",
    "test_image = load_img(r\"C:\\Users\\sndes\\JupyterProjects\\FinalProject\\Fin_DS\\val\\र्व\\1_र्व.jpg\", target_size=(64, 64))\n",
    "test_image = img_to_array(test_image)\n",
    "test_image = np.expand_dims(test_image, axis=0)\n",
    "\n",
    "# Get class indices\n",
    "indices = training_set.class_indices\n",
    "\n",
    "# Make predictions\n",
    "result = np.argmax(model.predict(test_image, verbose=False))\n",
    "print(list(indices.keys())[list(indices.values()).index(result)])"
   ]
  },
  {
   "cell_type": "markdown",
   "id": "423fe209",
   "metadata": {
    "id": "423fe209"
   },
   "source": [
    "### Prediction on sample data"
   ]
  },
  {
   "cell_type": "code",
   "execution_count": 37,
   "id": "8e36876f",
   "metadata": {
    "colab": {
     "base_uri": "https://localhost:8080/",
     "height": 327
    },
    "id": "8e36876f",
    "outputId": "fa773fbb-fd0e-4e0c-e3e6-522df3c04dc0"
   },
   "outputs": [],
   "source": [
    "test_image=load_img(r\"C:\\Users\\sndes\\JupyterProjects\\FinalProject\\Fin_DS\\val\\र्व\\1_र्व.jpg\",target_size=(64,64))"
   ]
  },
  {
   "cell_type": "code",
   "execution_count": 38,
   "id": "7a4f1e29",
   "metadata": {
    "id": "7a4f1e29"
   },
   "outputs": [
    {
     "data": {
      "text/plain": [
       "<matplotlib.image.AxesImage at 0x1c946cf1c10>"
      ]
     },
     "execution_count": 38,
     "metadata": {},
     "output_type": "execute_result"
    },
    {
     "data": {
      "image/png": "[encoded data removed]",
      "text/plain": [
       "<Figure size 640x480 with 1 Axes>"
      ]
     },
     "metadata": {},
     "output_type": "display_data"
    }
   ],
   "source": [
    "plt.imshow(test_image)"
   ]
  },
  {
   "cell_type": "code",
   "execution_count": 39,
   "id": "8a3611ce",
   "metadata": {
    "id": "8a3611ce"
   },
   "outputs": [],
   "source": [
    "test_image=img_to_array(test_image)\n",
    "test_image=np.expand_dims(test_image,axis=0)"
   ]
  },
  {
   "cell_type": "code",
   "execution_count": 40,
   "id": "10bd2180",
   "metadata": {
    "id": "10bd2180"
   },
   "outputs": [
    {
     "data": {
      "text/plain": [
       "(1, 64, 64, 3)"
      ]
     },
     "execution_count": 40,
     "metadata": {},
     "output_type": "execute_result"
    }
   ],
   "source": [
    "test_image.shape"
   ]
  },
  {
   "cell_type": "code",
   "execution_count": 41,
   "id": "e8954e14",
   "metadata": {
    "id": "e8954e14"
   },
   "outputs": [
    {
     "data": {
      "text/plain": [
       "{'अ': 0,\n",
       " 'अं': 1,\n",
       " 'अः': 2,\n",
       " 'आ': 3,\n",
       " 'इ': 4,\n",
       " 'ई': 5,\n",
       " 'उ': 6,\n",
       " 'ऊ': 7,\n",
       " 'ऋ': 8,\n",
       " 'ए': 9,\n",
       " 'ऐ': 10,\n",
       " 'ओ': 11,\n",
       " 'औ': 12,\n",
       " 'क': 13,\n",
       " 'कं': 14,\n",
       " 'कः': 15,\n",
       " 'का': 16,\n",
       " 'की': 17,\n",
       " 'कु': 18,\n",
       " 'कू': 19,\n",
       " 'के': 20,\n",
       " 'कै': 21,\n",
       " 'को': 22,\n",
       " 'कौ': 23,\n",
       " 'क्क': 24,\n",
       " 'क्त': 25,\n",
       " 'क्र': 26,\n",
       " 'क्ल': 27,\n",
       " 'क्ल्य': 28,\n",
       " 'क्ष': 29,\n",
       " 'क्षं_': 30,\n",
       " 'क्षः': 31,\n",
       " 'क्षा_': 32,\n",
       " 'क्षि_': 33,\n",
       " 'क्षी_': 34,\n",
       " 'क्षु_': 35,\n",
       " 'क्षू_': 36,\n",
       " 'क्षे_': 37,\n",
       " 'क्षै_': 38,\n",
       " 'क्षो_': 39,\n",
       " 'क्षौ_': 40,\n",
       " 'क्ष्य': 41,\n",
       " 'ख': 42,\n",
       " 'खं': 43,\n",
       " 'खः': 44,\n",
       " 'खा': 45,\n",
       " 'खि': 46,\n",
       " 'खी': 47,\n",
       " 'खु': 48,\n",
       " 'खू': 49,\n",
       " 'खे': 50,\n",
       " 'खै': 51,\n",
       " 'खो': 52,\n",
       " 'खौ': 53,\n",
       " 'ख्य': 54,\n",
       " 'ग': 55,\n",
       " 'गं': 56,\n",
       " 'गः': 57,\n",
       " 'गा': 58,\n",
       " 'गि': 59,\n",
       " 'गी': 60,\n",
       " 'गु': 61,\n",
       " 'गू': 62,\n",
       " 'गे': 63,\n",
       " 'गै': 64,\n",
       " 'गो': 65,\n",
       " 'गौ': 66,\n",
       " 'ग्ग': 67,\n",
       " 'ग्य': 68,\n",
       " 'ग्र': 69,\n",
       " 'ग्ल': 70,\n",
       " 'घ': 71,\n",
       " 'घं': 72,\n",
       " 'घः': 73,\n",
       " 'घा': 74,\n",
       " 'घि': 75,\n",
       " 'घी': 76,\n",
       " 'घु': 77,\n",
       " 'घू': 78,\n",
       " 'घे': 79,\n",
       " 'घै': 80,\n",
       " 'घो': 81,\n",
       " 'घौ': 82,\n",
       " 'ङ': 83,\n",
       " 'च': 84,\n",
       " 'चं': 85,\n",
       " 'चः': 86,\n",
       " 'चा': 87,\n",
       " 'चि': 88,\n",
       " 'ची': 89,\n",
       " 'चु': 90,\n",
       " 'चू': 91,\n",
       " 'चे': 92,\n",
       " 'चै': 93,\n",
       " 'चो': 94,\n",
       " 'चौ': 95,\n",
       " 'च्न': 96,\n",
       " 'च्य': 97,\n",
       " 'च्ल': 98,\n",
       " 'छ': 99,\n",
       " 'छं': 100,\n",
       " 'छः': 101,\n",
       " 'छा': 102,\n",
       " 'छि': 103,\n",
       " 'छी': 104,\n",
       " 'छु': 105,\n",
       " 'छू': 106,\n",
       " 'छे': 107,\n",
       " 'छै': 108,\n",
       " 'छो': 109,\n",
       " 'छौ': 110,\n",
       " 'छ्य': 111,\n",
       " 'ज': 112,\n",
       " 'जं': 113,\n",
       " 'जः': 114,\n",
       " 'जा': 115,\n",
       " 'जि': 116,\n",
       " 'जी': 117,\n",
       " 'जु': 118,\n",
       " 'जू': 119,\n",
       " 'जे': 120,\n",
       " 'जै': 121,\n",
       " 'जो': 122,\n",
       " 'जौ': 123,\n",
       " 'ज्ञ': 124,\n",
       " 'ज्ञं_': 125,\n",
       " 'ज्ञः': 126,\n",
       " 'ज्ञा_': 127,\n",
       " 'ज्ञि_': 128,\n",
       " 'ज्ञी': 129,\n",
       " 'ज्ञु_': 130,\n",
       " 'ज्ञू_': 131,\n",
       " 'ज्ञे_': 132,\n",
       " 'ज्ञै_': 133,\n",
       " 'ज्ञो_': 134,\n",
       " 'ज्ञौ_': 135,\n",
       " 'ज्य': 136,\n",
       " 'झ': 137,\n",
       " 'झं': 138,\n",
       " 'झः': 139,\n",
       " 'झा': 140,\n",
       " 'झि': 141,\n",
       " 'झी': 142,\n",
       " 'झु': 143,\n",
       " 'झू': 144,\n",
       " 'झे': 145,\n",
       " 'झै': 146,\n",
       " 'झो': 147,\n",
       " 'झौ': 148,\n",
       " 'ञ': 149,\n",
       " 'ट': 150,\n",
       " 'टं': 151,\n",
       " 'टः': 152,\n",
       " 'टा': 153,\n",
       " 'टि': 154,\n",
       " 'टी': 155,\n",
       " 'टु': 156,\n",
       " 'टू': 157,\n",
       " 'टे': 158,\n",
       " 'टै': 159,\n",
       " 'टो': 160,\n",
       " 'टौ': 161,\n",
       " 'ट्य': 162,\n",
       " 'ठ': 163,\n",
       " 'ठं': 164,\n",
       " 'ठः': 165,\n",
       " 'ठा': 166,\n",
       " 'ठि': 167,\n",
       " 'ठी': 168,\n",
       " 'ठु': 169,\n",
       " 'ठू': 170,\n",
       " 'ठे': 171,\n",
       " 'ठै': 172,\n",
       " 'ठो': 173,\n",
       " 'ठौ': 174,\n",
       " 'ड': 175,\n",
       " 'डं': 176,\n",
       " 'डः': 177,\n",
       " 'डा': 178,\n",
       " 'डि': 179,\n",
       " 'डी': 180,\n",
       " 'डु': 181,\n",
       " 'डू': 182,\n",
       " 'डे': 183,\n",
       " 'डै': 184,\n",
       " 'डो': 185,\n",
       " 'डौ': 186,\n",
       " 'ड्य': 187,\n",
       " 'ढ': 188,\n",
       " 'ढं': 189,\n",
       " 'ढः': 190,\n",
       " 'ढा': 191,\n",
       " 'ढि': 192,\n",
       " 'ढी': 193,\n",
       " 'ढु': 194,\n",
       " 'ढू': 195,\n",
       " 'ढे': 196,\n",
       " 'ढै': 197,\n",
       " 'ढो': 198,\n",
       " 'ढौ': 199,\n",
       " 'ढ्य': 200,\n",
       " 'ण': 201,\n",
       " 'णं': 202,\n",
       " 'णः': 203,\n",
       " 'णा': 204,\n",
       " 'णि': 205,\n",
       " 'णी': 206,\n",
       " 'णु': 207,\n",
       " 'णू': 208,\n",
       " 'णे': 209,\n",
       " 'णै': 210,\n",
       " 'णो': 211,\n",
       " 'णौ': 212,\n",
       " 'त': 213,\n",
       " 'तं': 214,\n",
       " 'तः': 215,\n",
       " 'ता': 216,\n",
       " 'ति': 217,\n",
       " 'ती': 218,\n",
       " 'तु': 219,\n",
       " 'तू': 220,\n",
       " 'ते': 221,\n",
       " 'तै': 222,\n",
       " 'तो': 223,\n",
       " 'तौ': 224,\n",
       " 'त्त': 225,\n",
       " 'त्त्व': 226,\n",
       " 'त्य': 227,\n",
       " 'त्र': 228,\n",
       " 'थ': 229,\n",
       " 'थं_': 230,\n",
       " 'थः': 231,\n",
       " 'था': 232,\n",
       " 'थि': 233,\n",
       " 'थी': 234,\n",
       " 'थु_': 235,\n",
       " 'थू_': 236,\n",
       " 'थे': 237,\n",
       " 'थै': 238,\n",
       " 'थो': 239,\n",
       " 'थौ': 240,\n",
       " 'द': 241,\n",
       " 'दं_': 242,\n",
       " 'दः': 243,\n",
       " 'दा': 244,\n",
       " 'दि_': 245,\n",
       " 'दी_': 246,\n",
       " 'दु_': 247,\n",
       " 'दू': 248,\n",
       " 'दे_': 249,\n",
       " 'दै_': 250,\n",
       " 'दो_': 251,\n",
       " 'दौ_': 252,\n",
       " 'द्द': 253,\n",
       " 'द्र': 254,\n",
       " 'ध': 255,\n",
       " 'धं_': 256,\n",
       " 'धः': 257,\n",
       " 'धा_': 258,\n",
       " 'धि_': 259,\n",
       " 'धी_': 260,\n",
       " 'धु_': 261,\n",
       " 'धू': 262,\n",
       " 'धे_': 263,\n",
       " 'धै_': 264,\n",
       " 'धो': 265,\n",
       " 'धौ_': 266,\n",
       " 'ध्य': 267,\n",
       " 'ध्य्य': 268,\n",
       " 'ध्र': 269,\n",
       " 'न': 270,\n",
       " 'नं_': 271,\n",
       " 'नः': 272,\n",
       " 'ना_': 273,\n",
       " 'नि_': 274,\n",
       " 'नी_': 275,\n",
       " 'नु_': 276,\n",
       " 'नू_': 277,\n",
       " 'ने_': 278,\n",
       " 'नै_': 279,\n",
       " 'नो_': 280,\n",
       " 'नौ_': 281,\n",
       " 'न्त': 282,\n",
       " 'न्त्य': 283,\n",
       " 'न्त्र': 284,\n",
       " 'न्ध': 285,\n",
       " 'न्ध्र': 286,\n",
       " 'न्न': 287,\n",
       " 'न्म': 288,\n",
       " 'न्य': 289,\n",
       " 'न्ल': 290,\n",
       " 'प': 291,\n",
       " 'पं_': 292,\n",
       " 'पः': 293,\n",
       " 'पा': 294,\n",
       " 'पि_': 295,\n",
       " 'पी_': 296,\n",
       " 'पु': 297,\n",
       " 'पू_': 298,\n",
       " 'पे_': 299,\n",
       " 'पै_': 300,\n",
       " 'पो_': 301,\n",
       " 'पौ_': 302,\n",
       " 'प्त्य': 303,\n",
       " 'प्न': 304,\n",
       " 'प्प': 305,\n",
       " 'प्य': 306,\n",
       " 'प्र': 307,\n",
       " 'प्ल': 308,\n",
       " 'फ': 309,\n",
       " 'फं_': 310,\n",
       " 'फः': 311,\n",
       " 'फा_': 312,\n",
       " 'फि': 313,\n",
       " 'फी_': 314,\n",
       " 'फु': 315,\n",
       " 'फू_': 316,\n",
       " 'फे_': 317,\n",
       " 'फै_': 318,\n",
       " 'फो_': 319,\n",
       " 'फौ_': 320,\n",
       " 'फ्य': 321,\n",
       " 'ब': 322,\n",
       " 'बं_': 323,\n",
       " 'बः': 324,\n",
       " 'बा': 325,\n",
       " 'बि': 326,\n",
       " 'बी': 327,\n",
       " 'बु': 328,\n",
       " 'बू': 329,\n",
       " 'बे_': 330,\n",
       " 'बै_': 331,\n",
       " 'बो_': 332,\n",
       " 'बौ_': 333,\n",
       " 'ब्ब': 334,\n",
       " 'ब्य': 335,\n",
       " 'भ': 336,\n",
       " 'भं_': 337,\n",
       " 'भः': 338,\n",
       " 'भा': 339,\n",
       " 'भि': 340,\n",
       " 'भी': 341,\n",
       " 'भु_': 342,\n",
       " 'भू_': 343,\n",
       " 'भे_': 344,\n",
       " 'भै_': 345,\n",
       " 'भो_': 346,\n",
       " 'भौ_': 347,\n",
       " 'म': 348,\n",
       " 'मं': 349,\n",
       " 'मः': 350,\n",
       " 'मा_': 351,\n",
       " 'मि_': 352,\n",
       " 'मी_': 353,\n",
       " 'मु_': 354,\n",
       " 'मू_': 355,\n",
       " 'मे': 356,\n",
       " 'मै_': 357,\n",
       " 'मो_': 358,\n",
       " 'मौ_': 359,\n",
       " 'म्त': 360,\n",
       " 'म्म': 361,\n",
       " 'म्य': 362,\n",
       " 'म्ल': 363,\n",
       " 'य': 364,\n",
       " 'यं': 365,\n",
       " 'यः': 366,\n",
       " 'या': 367,\n",
       " 'यि': 368,\n",
       " 'यी': 369,\n",
       " 'यु': 370,\n",
       " 'यू': 371,\n",
       " 'ये': 372,\n",
       " 'यै': 373,\n",
       " 'यो': 374,\n",
       " 'यौ': 375,\n",
       " 'य्त': 376,\n",
       " 'य्य': 377,\n",
       " 'य्व': 378,\n",
       " 'र': 379,\n",
       " 'रं': 380,\n",
       " 'रः': 381,\n",
       " 'रा': 382,\n",
       " 'रि': 383,\n",
       " 'री': 384,\n",
       " 'रु': 385,\n",
       " 'रू': 386,\n",
       " 'रे': 387,\n",
       " 'रै': 388,\n",
       " 'रो': 389,\n",
       " 'रौ': 390,\n",
       " 'र्ख': 391,\n",
       " 'र्ग': 392,\n",
       " 'र्घ': 393,\n",
       " 'र्ण': 394,\n",
       " 'र्म': 395,\n",
       " 'र्य': 396,\n",
       " 'र्ल': 397,\n",
       " 'र्व': 398,\n",
       " 'ल': 399,\n",
       " 'लं_': 400,\n",
       " 'लः': 401,\n",
       " 'ला_': 402,\n",
       " 'लि_': 403,\n",
       " 'ली_': 404,\n",
       " 'लु_': 405,\n",
       " 'लू_': 406,\n",
       " 'ले_': 407,\n",
       " 'लै_': 408,\n",
       " 'लो_': 409,\n",
       " 'लौ_': 410,\n",
       " 'ल्ग': 411,\n",
       " 'ल्घ': 412,\n",
       " 'ल्त': 413,\n",
       " 'ल्म': 414,\n",
       " 'ल्य': 415,\n",
       " 'ल्य्य': 416,\n",
       " 'ल्ल': 417,\n",
       " 'ळ': 418,\n",
       " 'ळं': 419,\n",
       " 'ळः': 420,\n",
       " 'ळा': 421,\n",
       " 'ळि': 422,\n",
       " 'ळी': 423,\n",
       " 'ळु': 424,\n",
       " 'ळू': 425,\n",
       " 'ळे': 426,\n",
       " 'ळै': 427,\n",
       " 'ळो': 428,\n",
       " 'ळौ': 429,\n",
       " 'व': 430,\n",
       " 'वं_': 431,\n",
       " 'वः': 432,\n",
       " 'वा_': 433,\n",
       " 'वि_': 434,\n",
       " 'वी': 435,\n",
       " 'वु_': 436,\n",
       " 'वू_': 437,\n",
       " 'वे_': 438,\n",
       " 'वै_': 439,\n",
       " 'वो_': 440,\n",
       " 'वौ_': 441,\n",
       " 'व्त': 442,\n",
       " 'व्य': 443,\n",
       " 'व्य्य': 444,\n",
       " 'व्र': 445,\n",
       " 'व्ल': 446,\n",
       " 'व्व': 447,\n",
       " 'श': 448,\n",
       " 'शं_': 449,\n",
       " 'शः': 450,\n",
       " 'शा_': 451,\n",
       " 'शि_': 452,\n",
       " 'शी_': 453,\n",
       " 'शु_': 454,\n",
       " 'शू_': 455,\n",
       " 'शे_': 456,\n",
       " 'शै_': 457,\n",
       " 'शो': 458,\n",
       " 'शौ_': 459,\n",
       " 'श्च': 460,\n",
       " 'श्छ': 461,\n",
       " 'श्त': 462,\n",
       " 'श्म': 463,\n",
       " 'श्र': 464,\n",
       " 'श्ल्य': 465,\n",
       " 'श्व': 466,\n",
       " 'ष': 467,\n",
       " 'षं_': 468,\n",
       " 'षः': 469,\n",
       " 'षा': 470,\n",
       " 'षि_': 471,\n",
       " 'षी_': 472,\n",
       " 'षु': 473,\n",
       " 'षू_': 474,\n",
       " 'षे_': 475,\n",
       " 'षै_': 476,\n",
       " 'षो_': 477,\n",
       " 'षौ_': 478,\n",
       " 'ष्क': 479,\n",
       " 'ष्ट': 480,\n",
       " 'ष्ट्र': 481,\n",
       " 'ष्ठ': 482,\n",
       " 'ष्य': 483,\n",
       " 'स': 484,\n",
       " 'सं_': 485,\n",
       " 'सः': 486,\n",
       " 'सा_': 487,\n",
       " 'सी_': 488,\n",
       " 'सु_': 489,\n",
       " 'सू_': 490,\n",
       " 'से_': 491,\n",
       " 'सै': 492,\n",
       " 'सो': 493,\n",
       " 'सौ_': 494,\n",
       " 'स्त': 495,\n",
       " 'स्म': 496,\n",
       " 'स्य': 497,\n",
       " 'स्ल': 498,\n",
       " 'स्स': 499,\n",
       " 'ह': 500,\n",
       " 'हं_': 501,\n",
       " 'हः': 502,\n",
       " 'हा_': 503,\n",
       " 'हि_': 504,\n",
       " 'ही_': 505,\n",
       " 'हु_': 506,\n",
       " 'हू_': 507,\n",
       " 'हे_': 508,\n",
       " 'है_': 509,\n",
       " 'हो_': 510,\n",
       " 'हौ_': 511,\n",
       " 'ह्य': 512}"
      ]
     },
     "execution_count": 41,
     "metadata": {},
     "output_type": "execute_result"
    }
   ],
   "source": [
    "training_set.class_indices"
   ]
  },
  {
   "cell_type": "code",
   "execution_count": 42,
   "id": "7807a4a6",
   "metadata": {
    "id": "7807a4a6"
   },
   "outputs": [],
   "source": [
    "indices = training_set.class_indices"
   ]
  },
  {
   "cell_type": "code",
   "execution_count": 43,
   "id": "0405012c",
   "metadata": {
    "id": "0405012c"
   },
   "outputs": [
    {
     "name": "stdout",
     "output_type": "stream",
     "text": [
      "ढी\n"
     ]
    }
   ],
   "source": [
    "result = np.argmax(model.predict(test_image,verbose=False))\n",
    "print(list(indices.keys())[list(indices.values()).index(result)])"
   ]
  },
  {
   "cell_type": "code",
   "execution_count": null,
   "id": "b1dc236e",
   "metadata": {
    "id": "b1dc236e"
   },
   "outputs": [],
   "source": []
  }
 ],
 "metadata": {
  "colab": {
   "provenance": []
  },
  "kernelspec": {
   "display_name": "Python 3 (ipykernel)",
   "language": "python",
   "name": "python3"
  },
  "language_info": {
   "codemirror_mode": {
    "name": "ipython",
    "version": 3
   },
   "file_extension": ".py",
   "mimetype": "text/x-python",
   "name": "python",
   "nbconvert_exporter": "python",
   "pygments_lexer": "ipython3",
   "version": "3.11.4"
  }
 },
 "nbformat": 4,
 "nbformat_minor": 5
}
